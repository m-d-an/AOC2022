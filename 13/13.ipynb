{
 "cells": [
  {
   "cell_type": "code",
   "execution_count": 1,
   "metadata": {},
   "outputs": [],
   "source": [
    "# Example 1\n",
    "file = 'input_ex1.txt'"
   ]
  },
  {
   "cell_type": "code",
   "execution_count": 2,
   "metadata": {},
   "outputs": [],
   "source": [
    "# Puzzle input\n",
    "file = 'input.txt'"
   ]
  },
  {
   "cell_type": "code",
   "execution_count": 3,
   "metadata": {},
   "outputs": [],
   "source": [
    "file = open(file, 'r')\n",
    "input = file.readlines()\n",
    "file.close()"
   ]
  },
  {
   "cell_type": "code",
   "execution_count": 4,
   "metadata": {},
   "outputs": [],
   "source": [
    "def compare_lists(l1, l2):\n",
    "    res = None\n",
    "    for i in range(max(len(l1), len(l2))):\n",
    "        if i==len(l1):\n",
    "            return True\n",
    "        elif i==len(l2):\n",
    "            return False \n",
    "        elif (type(l1[i])==list and type(l2[i])==list):\n",
    "            res = compare_lists(l1[i],l2[i])\n",
    "        elif (type(l1[i])==list and type(l2[i])==int):\n",
    "            res = compare_lists(l1[i],[l2[i]])\n",
    "        elif (type(l1[i])==int and type(l2[i])==list):\n",
    "            res = compare_lists([l1[i]],l2[i])\n",
    "        elif l1[i] > l2[i]:\n",
    "            return False\n",
    "        elif l1[i] < l2[i]:\n",
    "            return True\n",
    "        if (res != None):\n",
    "            return res\n",
    "    return None"
   ]
  },
  {
   "cell_type": "code",
   "execution_count": 5,
   "metadata": {},
   "outputs": [
    {
     "data": {
      "text/plain": [
       "5659"
      ]
     },
     "execution_count": 5,
     "metadata": {},
     "output_type": "execute_result"
    }
   ],
   "source": [
    "# solution a\n",
    "sum_ro = 0\n",
    "for i in range(0, len(input), 3):\n",
    "    l1 = eval(input[i])\n",
    "    l2 = eval(input[i+1])\n",
    "    if(compare_lists(l1, l2)):\n",
    "        sum_ro += int(i/3)+1\n",
    "sum_ro"
   ]
  },
  {
   "cell_type": "code",
   "execution_count": 6,
   "metadata": {},
   "outputs": [],
   "source": [
    "packets = []\n",
    "for line in input:\n",
    "    if line.startswith('['):\n",
    "        packets.append(eval(line.strip()))\n",
    "packets.append([[2]])\n",
    "packets.append([[6]])"
   ]
  },
  {
   "cell_type": "code",
   "execution_count": 7,
   "metadata": {},
   "outputs": [],
   "source": [
    "def cmp(item1, item2):\n",
    "    result = compare_lists(item1, item2)\n",
    "    if result:\n",
    "        return -1\n",
    "    elif not result:\n",
    "        return 1\n",
    "    else:\n",
    "        return 0"
   ]
  },
  {
   "cell_type": "code",
   "execution_count": 8,
   "metadata": {},
   "outputs": [],
   "source": [
    "import functools\n",
    "packets.sort(key=functools.cmp_to_key(cmp))"
   ]
  },
  {
   "cell_type": "code",
   "execution_count": 9,
   "metadata": {},
   "outputs": [
    {
     "data": {
      "text/plain": [
       "22110"
      ]
     },
     "execution_count": 9,
     "metadata": {},
     "output_type": "execute_result"
    }
   ],
   "source": [
    "# solution b\n",
    "(packets.index([[2]])+1) * (packets.index([[6]])+1)"
   ]
  }
 ],
 "metadata": {
  "kernelspec": {
   "display_name": "Python 3.10.8 ('venv')",
   "language": "python",
   "name": "python3"
  },
  "language_info": {
   "codemirror_mode": {
    "name": "ipython",
    "version": 3
   },
   "file_extension": ".py",
   "mimetype": "text/x-python",
   "name": "python",
   "nbconvert_exporter": "python",
   "pygments_lexer": "ipython3",
   "version": "3.10.8"
  },
  "orig_nbformat": 4,
  "vscode": {
   "interpreter": {
    "hash": "1d83de968a5503150db6c5cc46c1246f690e138e7e61ece9303930307d16413f"
   }
  }
 },
 "nbformat": 4,
 "nbformat_minor": 2
}
