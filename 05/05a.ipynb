{
 "cells": [
  {
   "cell_type": "code",
   "execution_count": 1,
   "metadata": {},
   "outputs": [],
   "source": [
    "import re"
   ]
  },
  {
   "cell_type": "code",
   "execution_count": 2,
   "metadata": {},
   "outputs": [],
   "source": [
    "file = open('input.txt', 'r')\n",
    "input = file.readlines()\n",
    "file.close()"
   ]
  },
  {
   "cell_type": "code",
   "execution_count": 3,
   "metadata": {},
   "outputs": [],
   "source": [
    "def read_in_stack(line):\n",
    "    stack_row = []\n",
    "    split = re.split('\\[|\\]',line.strip())\n",
    "    for s in split:\n",
    "        if (len(s)==1 and s!=' '):\n",
    "            stack_row.append(s)\n",
    "        elif (len(s)>1):\n",
    "            for i in range(int((len(s)-1)/4)):\n",
    "                stack_row.append(' ')\n",
    "    stack_input.append(stack_row)\n",
    "    return"
   ]
  },
  {
   "cell_type": "code",
   "execution_count": 4,
   "metadata": {},
   "outputs": [],
   "source": [
    "def build_initial_stack():\n",
    "    for c in stack_input[len(stack_input)-1]:\n",
    "        stacks.append([c])\n",
    "    for j in range(len(stack_input)-1,0,-1):\n",
    "        for i in range(len(stack_input[j-1])):\n",
    "            if(stack_input[j-1][i] != ' '):\n",
    "                stacks[i].append(stack_input[j-1][i])\n",
    "    return"
   ]
  },
  {
   "cell_type": "code",
   "execution_count": 5,
   "metadata": {},
   "outputs": [],
   "source": [
    "def move_crates(line):\n",
    "    split = line.split()\n",
    "    stacks[int(split[5])-1] = stacks[int(split[5])-1] + stacks[int(split[3])-1][-int(split[1]):]\n",
    "    stacks[int(split[3])-1] = stacks[int(split[3])-1][:-int(split[1])]\n",
    "    return"
   ]
  },
  {
   "cell_type": "code",
   "execution_count": 6,
   "metadata": {},
   "outputs": [],
   "source": [
    "stack_input = []\n",
    "stacks = []\n",
    "\n",
    "for line in input:\n",
    "    if (line.startswith('[')):\n",
    "        read_in_stack(line)\n",
    "    elif (line.startswith(' 1')):\n",
    "        build_initial_stack()\n",
    "    elif (line.startswith('move')):\n",
    "        move_crates(line)"
   ]
  },
  {
   "cell_type": "code",
   "execution_count": 7,
   "metadata": {},
   "outputs": [
    {
     "name": "stdout",
     "output_type": "stream",
     "text": [
      "TDGJQTZSL\n"
     ]
    }
   ],
   "source": [
    "# solution 5b\n",
    "l = ''\n",
    "for s in stacks:\n",
    "    l += s[-1]\n",
    "print(l)"
   ]
  }
 ],
 "metadata": {
  "kernelspec": {
   "display_name": "Python 3.10.8 ('venv')",
   "language": "python",
   "name": "python3"
  },
  "language_info": {
   "codemirror_mode": {
    "name": "ipython",
    "version": 3
   },
   "file_extension": ".py",
   "mimetype": "text/x-python",
   "name": "python",
   "nbconvert_exporter": "python",
   "pygments_lexer": "ipython3",
   "version": "3.10.8"
  },
  "orig_nbformat": 4,
  "vscode": {
   "interpreter": {
    "hash": "1d83de968a5503150db6c5cc46c1246f690e138e7e61ece9303930307d16413f"
   }
  }
 },
 "nbformat": 4,
 "nbformat_minor": 2
}
