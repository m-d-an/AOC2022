{
 "cells": [
  {
   "cell_type": "code",
   "execution_count": 1,
   "metadata": {},
   "outputs": [],
   "source": [
    "from collections import deque"
   ]
  },
  {
   "cell_type": "code",
   "execution_count": 2,
   "metadata": {},
   "outputs": [],
   "source": [
    "demo = False\n",
    "if (demo):\n",
    "    file = 'input_ex1.txt'\n",
    "else:\n",
    "    # Puzzle input\n",
    "    file = 'input.txt'"
   ]
  },
  {
   "cell_type": "code",
   "execution_count": 3,
   "metadata": {},
   "outputs": [],
   "source": [
    "file = open(file, 'r')\n",
    "input = file.readlines()\n",
    "file.close()"
   ]
  },
  {
   "cell_type": "code",
   "execution_count": 4,
   "metadata": {},
   "outputs": [],
   "source": [
    "if demo:\n",
    "    width = 8\n",
    "    height = 6\n",
    "else:\n",
    "    width = 122\n",
    "    height = 27"
   ]
  },
  {
   "cell_type": "code",
   "execution_count": 5,
   "metadata": {},
   "outputs": [],
   "source": [
    "def print_valley():\n",
    "    for i in range(height):\n",
    "        line = \"\"\n",
    "        for j in range(width):\n",
    "            if (i,j) in locations:\n",
    "                line += 'E'\n",
    "            elif (i == 0 and j == 1) or (j == width - 2 and i == height - 1):\n",
    "                line += \".\"\n",
    "            elif i == 0 or j == 0 or j == width - 1 or i == height - 1:\n",
    "                line += '#'\n",
    "            else:\n",
    "                n_blizzards = 0\n",
    "                if (i,j) in up:\n",
    "                    n_blizzards += 1\n",
    "                if (i,j) in down:\n",
    "                    n_blizzards += 1\n",
    "                if (i,j) in left:\n",
    "                    n_blizzards += 1\n",
    "                if (i,j) in right:\n",
    "                    n_blizzards += 1\n",
    "                if n_blizzards > 0:\n",
    "                    line += str(n_blizzards)\n",
    "                else:\n",
    "                    line += \".\"\n",
    "        print(line)"
   ]
  },
  {
   "cell_type": "code",
   "execution_count": 6,
   "metadata": {},
   "outputs": [],
   "source": [
    "up = deque([])\n",
    "down = deque([])\n",
    "left = deque([])\n",
    "right = deque([])\n",
    "for i,line in enumerate(input):\n",
    "    for j,c in enumerate(line.strip()):\n",
    "        if c == '^':\n",
    "            up.append((i,j))\n",
    "        elif c == '<':\n",
    "            left.append((i,j))\n",
    "        elif c == '>':\n",
    "            right.append((i,j))\n",
    "        elif c == 'v':\n",
    "            down.append((i,j))\n"
   ]
  },
  {
   "cell_type": "code",
   "execution_count": 7,
   "metadata": {},
   "outputs": [],
   "source": [
    "def move_blizzards_for_1_minute():\n",
    "    for i in range(len(up)):\n",
    "        temp = up.popleft()\n",
    "        if (temp[0] == 1):\n",
    "            up.append((height-2, temp[1]))\n",
    "        else:\n",
    "            up.append((temp[0]-1, temp[1]))\n",
    "    for i in range(len(down)):\n",
    "        temp = down.popleft()\n",
    "        if (temp[0] == height-2):\n",
    "            down.append((1, temp[1]))\n",
    "        else:\n",
    "            down.append((temp[0]+1, temp[1]))\n",
    "    for i in range(len(left)):\n",
    "        temp = left.popleft()\n",
    "        if (temp[1] == 1):\n",
    "            left.append((temp[0], width-2))\n",
    "        else:\n",
    "            left.append((temp[0], temp[1]-1))\n",
    "    for i in range(len(right)):\n",
    "        temp = right.popleft()\n",
    "        if (temp[1] == width-2):\n",
    "            right.append((temp[0], 1))\n",
    "        else:\n",
    "            right.append((temp[0], temp[1]+1))\n",
    "    return"
   ]
  },
  {
   "cell_type": "code",
   "execution_count": 8,
   "metadata": {},
   "outputs": [],
   "source": [
    "def clean_up():\n",
    "    for l in locations.copy():\n",
    "        if l in up or l in down or l in left or l in right:\n",
    "            locations.remove(l)\n",
    "    return"
   ]
  },
  {
   "cell_type": "code",
   "execution_count": 9,
   "metadata": {},
   "outputs": [],
   "source": [
    "def set_new_possible_locations():\n",
    "    blizzards = up + down + left + right\n",
    "    for l in locations.copy():\n",
    "        new_p = [(l[0]+1,l[1]),(l[0]-1,l[1]),(l[0],l[1]+1),(l[0],l[1]-1)]\n",
    "        for p in new_p:\n",
    "            if p in locations:\n",
    "                continue\n",
    "            if p == (height-1, width-2):\n",
    "                locations.append(p)\n",
    "                return True\n",
    "            if p[0] < height-1 and p[0] > 0 and p[1] < width-1 and p[1] > 0:\n",
    "                if p not in blizzards:\n",
    "                    locations.append(p)      \n",
    "    return False"
   ]
  },
  {
   "cell_type": "code",
   "execution_count": 10,
   "metadata": {},
   "outputs": [
    {
     "name": "stdout",
     "output_type": "stream",
     "text": [
      "#E########################################################################################################################\n",
      "#11111111111111111111111.1111111111111111111111111111.11111111111.11.111111111111.1111.1111111111111111111111111111111111#\n",
      "#111111.1111.1.1111..111111111111111111.11111111.111111111111111111111111111111111111111111111111.11111.111111.1111111111#\n",
      "#11.111111.1111111111.1.111.11111111.111.1.111111.111111111111111111.1111111111111111..11111.111111111111.111111111111111#\n",
      "#.1111.11111111111.111111.11.11111111111111..11.111.1111111111.11111.11111111.1111111111111111.1111111.111.11111.11.11111#\n",
      "#111111.111111111111111111111111111.1.111111111111.111111111111.1111111111.111111111111111111.111111111.1.111111111111111#\n",
      "#111111.11111.111111111111111111.11111.1111111.11.1111111111111111111111111..1111111.1111.111.111111111111111111.11111.11#\n",
      "#11111111111111111111..1.1.11.1.111.1.111111111111111.11111111111111111111.1111111111111.11111111111111111111.1111.111111#\n",
      "#11111111111111111111111111.1111111111111.111.111111.1111111111111.11111111111.1111111111111.1111111.1..11.1111.1.1111111#\n",
      "#111111111.111111111111111111111111111111111.11111111111111111111.1111111111.11111111111111111.1111.11111111.11111111.111#\n",
      "#1..1111111.11111.1111..1111111.11.11111111111111111111111.11111.111111111111111.111111..1..11111111111111111.11111111111#\n",
      "#111111111111111111..111111.11111111..111111111111111111111111111.1111111.1111111111111111..11.1.111111.11111111111.11111#\n",
      "#.1111111.1111.1111.1111111111..11.1111111111111.11.11111.111111111.1111111111.11111111111111111.1.111.1111111.111111111.#\n",
      "#11.1111111.1111111111..1.1111111111.111.11.1111.1111111.111111.1111111.1.111111111111111111.111.111111.1111.111.11111111#\n",
      "#..11111111.1111.1111..1111.1.111.111111111111111111.111111111111111111111111111111.11..111111.11111111.111.1111111111111#\n",
      "#111111.1111111111111..11111111111111111111.1111.1111111.1111111.11.1111111111111.11.111111.11.111.11..111.111111.1.11111#\n",
      "#111111.111111111111111111111.111.1.1.1111111111111111111111.111111111.11.11111111.1.11111.111.11.11111111.11111111111.11#\n",
      "#1111111111.1111.111111.1.111111111111111111111111111111.11.11111.11111111111.1111111111111.11111111111111.111111.1111111#\n",
      "#1111.1111111111111111111111111111111111111.11111111111111111.1.111111.1111111.11111111111111111111.111111111111111111111#\n",
      "#11111111111.11111111111.1.11111111111111111111111111.1111.1111111111111.11.1111.11.1111111111111111.11111111.111.11.1.11#\n",
      "#11111111..111111111111.111..11111111111111.1111111111111.111.11111111.1111.11111111111111.1.11111.11111111.1111111111111#\n",
      "#11111111111111111.11111111111.111111111111111.111111111.1.111111111111.1111111111.1111.1111.1111111111111111111111111111#\n",
      "#1111.111111111.1.11111111.1.111111111111111.1111111111111111111111111111.11111111111111111111.11111111.111111111.1111.11#\n",
      "#111111.11111111.11.1.1..1111.111111.1111111.11111111111111111111.11111.111111111111.11111.1111.1111111111111111111111111#\n",
      "#111.1.1111111.1.1111111111111.11.111111.111111111111111111..11111111111111111111111111.11111111.1111111.1111111111111111#\n",
      "#1111111111111111111.11.11111111111111.111111111111111111111111111.111111.11.11.1111..11.11111111111..1111111111111111111#\n",
      "########################################################################################################################.#\n",
      "Target reached after 277 minutes.\n"
     ]
    }
   ],
   "source": [
    "minutes = 0\n",
    "target_reached = False\n",
    "locations = [(0,1)]\n",
    "\n",
    "#print(str(minutes)+\" minutes\")\n",
    "print_valley()\n",
    "\n",
    "while(not target_reached):\n",
    "    move_blizzards_for_1_minute()\n",
    "    set_new_possible_locations()\n",
    "    clean_up()\n",
    "    minutes += 1\n",
    "    #print(str(minutes)+\" minutes\")\n",
    "    #print_valley()\n",
    "    if (height-1, width-2) in locations:\n",
    "        target_reached = True\n",
    "print(\"Target reached after \"+str(minutes)+\" minutes.\")"
   ]
  }
 ],
 "metadata": {
  "kernelspec": {
   "display_name": "Python 3.10.8 64-bit",
   "language": "python",
   "name": "python3"
  },
  "language_info": {
   "codemirror_mode": {
    "name": "ipython",
    "version": 3
   },
   "file_extension": ".py",
   "mimetype": "text/x-python",
   "name": "python",
   "nbconvert_exporter": "python",
   "pygments_lexer": "ipython3",
   "version": "3.10.8"
  },
  "orig_nbformat": 4,
  "vscode": {
   "interpreter": {
    "hash": "aee8b7b246df8f9039afb4144a1f6fd8d2ca17a180786b69acc140d282b71a49"
   }
  }
 },
 "nbformat": 4,
 "nbformat_minor": 2
}
