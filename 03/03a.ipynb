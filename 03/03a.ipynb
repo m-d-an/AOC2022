{
 "cells": [
  {
   "cell_type": "code",
   "execution_count": 1,
   "metadata": {},
   "outputs": [],
   "source": [
    "import pandas as pd\n",
    "from difflib import SequenceMatcher"
   ]
  },
  {
   "cell_type": "code",
   "execution_count": 2,
   "metadata": {},
   "outputs": [],
   "source": [
    "df = pd.read_csv('input.txt', header=None)\n",
    "df.columns = ['content']"
   ]
  },
  {
   "cell_type": "code",
   "execution_count": 3,
   "metadata": {},
   "outputs": [],
   "source": [
    "# WARNING\n",
    "# this method doesn't work because there is a bug in get_matching_blocks,\n",
    "# as it does not find all matches. To find this bug cost me 2 hours of my life.\n",
    "def get_matches(s1, s2):\n",
    "    match = SequenceMatcher(None, s1, s2).get_matching_blocks()\n",
    "    t = \"\"\n",
    "    for x in match:\n",
    "        t += \"\" + s1[x.a:x.a + x.size]\n",
    "    return t"
   ]
  },
  {
   "cell_type": "code",
   "execution_count": 4,
   "metadata": {},
   "outputs": [],
   "source": [
    "# to get all matches this methods uses find_longest_match as long\n",
    "# as there are matching substrings and writes all of them into a \n",
    "# new string containing all matching substrings (once)\n",
    "def get_matches_2(s1,s2):\n",
    "    t = \"\"\n",
    "    while(True):\n",
    "        match = SequenceMatcher(None, s1, s2).find_longest_match()\n",
    "        if (match.size==0):\n",
    "            break\n",
    "        l_match = s1[match.a:match.a + match.size]\n",
    "        t += l_match\n",
    "        s1 = s1.replace(l_match, \"\")\n",
    "    return t"
   ]
  },
  {
   "cell_type": "code",
   "execution_count": 5,
   "metadata": {},
   "outputs": [],
   "source": [
    "def get_priority(s):\n",
    "    if(s is None or s == \"\"):\n",
    "        return 0\n",
    "    if(ord(s[0])>=97):\n",
    "        return ord(s[0])-96\n",
    "    else:\n",
    "        return ord(s[0])-38"
   ]
  },
  {
   "cell_type": "code",
   "execution_count": 6,
   "metadata": {},
   "outputs": [],
   "source": [
    "badges = []\n",
    "for i in range(0,len(df),3):\n",
    "    badges.append(get_matches_2(get_matches_2(df.content[i], df.content[i+1]),df.content[i+2]))\n",
    "badges = pd.DataFrame(badges, columns=['badges'])"
   ]
  },
  {
   "cell_type": "code",
   "execution_count": 7,
   "metadata": {},
   "outputs": [],
   "source": [
    "badges['prio'] = badges['badges'].apply(lambda x: get_priority(x))"
   ]
  },
  {
   "cell_type": "code",
   "execution_count": 8,
   "metadata": {},
   "outputs": [
    {
     "data": {
      "text/plain": [
       "2434"
      ]
     },
     "execution_count": 8,
     "metadata": {},
     "output_type": "execute_result"
    }
   ],
   "source": [
    "sum(badges.prio)"
   ]
  }
 ],
 "metadata": {
  "kernelspec": {
   "display_name": "Python 3.10.8 ('venv': venv)",
   "language": "python",
   "name": "python3"
  },
  "language_info": {
   "codemirror_mode": {
    "name": "ipython",
    "version": 3
   },
   "file_extension": ".py",
   "mimetype": "text/x-python",
   "name": "python",
   "nbconvert_exporter": "python",
   "pygments_lexer": "ipython3",
   "version": "3.10.8"
  },
  "orig_nbformat": 4,
  "vscode": {
   "interpreter": {
    "hash": "1d83de968a5503150db6c5cc46c1246f690e138e7e61ece9303930307d16413f"
   }
  }
 },
 "nbformat": 4,
 "nbformat_minor": 2
}
