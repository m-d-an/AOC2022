{
 "cells": [
  {
   "cell_type": "code",
   "execution_count": 1,
   "metadata": {},
   "outputs": [],
   "source": [
    "import pandas as pd\n",
    "from difflib import SequenceMatcher"
   ]
  },
  {
   "cell_type": "code",
   "execution_count": 2,
   "metadata": {},
   "outputs": [],
   "source": [
    "df = pd.read_csv('input.txt', header=None)\n",
    "df.columns = ['first']"
   ]
  },
  {
   "cell_type": "code",
   "execution_count": 3,
   "metadata": {},
   "outputs": [],
   "source": [
    "df['second'] = df['first'].apply(lambda x: x[int(len(x)/2):])\n",
    "df['first'] = df['first'].apply(lambda x: x[:int(len(x)/2)])"
   ]
  },
  {
   "cell_type": "code",
   "execution_count": 4,
   "metadata": {},
   "outputs": [],
   "source": [
    "def get_match(s1,s2):\n",
    "    match = SequenceMatcher(None, s1, s2).find_longest_match()\n",
    "    return s1[match.a:match.a + match.size]\n"
   ]
  },
  {
   "cell_type": "code",
   "execution_count": 5,
   "metadata": {},
   "outputs": [],
   "source": [
    "df['match'] = df.apply(lambda x: get_match(x['first'], x['second']), axis=1)"
   ]
  },
  {
   "cell_type": "code",
   "execution_count": 6,
   "metadata": {},
   "outputs": [],
   "source": [
    "def get_priority(s):\n",
    "    if(ord(s)>=97):\n",
    "        return ord(s)-96\n",
    "    else:\n",
    "        return ord(s)-38"
   ]
  },
  {
   "cell_type": "code",
   "execution_count": 7,
   "metadata": {},
   "outputs": [],
   "source": [
    "df['prio'] = df['match'].apply(lambda x: get_priority(x))"
   ]
  },
  {
   "cell_type": "code",
   "execution_count": 8,
   "metadata": {},
   "outputs": [
    {
     "data": {
      "text/html": [
       "<div>\n",
       "<style scoped>\n",
       "    .dataframe tbody tr th:only-of-type {\n",
       "        vertical-align: middle;\n",
       "    }\n",
       "\n",
       "    .dataframe tbody tr th {\n",
       "        vertical-align: top;\n",
       "    }\n",
       "\n",
       "    .dataframe thead th {\n",
       "        text-align: right;\n",
       "    }\n",
       "</style>\n",
       "<table border=\"1\" class=\"dataframe\">\n",
       "  <thead>\n",
       "    <tr style=\"text-align: right;\">\n",
       "      <th></th>\n",
       "      <th>first</th>\n",
       "      <th>second</th>\n",
       "      <th>match</th>\n",
       "      <th>prio</th>\n",
       "    </tr>\n",
       "  </thead>\n",
       "  <tbody>\n",
       "    <tr>\n",
       "      <th>0</th>\n",
       "      <td>fzmmmfwDWFzl</td>\n",
       "      <td>QQqjCQjDGnqq</td>\n",
       "      <td>D</td>\n",
       "      <td>30</td>\n",
       "    </tr>\n",
       "    <tr>\n",
       "      <th>1</th>\n",
       "      <td>tJHJvLJVVttNsvTtTvgHHSV</td>\n",
       "      <td>wCsQRQQZCZZMqQMQBnqBMQs</td>\n",
       "      <td>s</td>\n",
       "      <td>19</td>\n",
       "    </tr>\n",
       "    <tr>\n",
       "      <th>2</th>\n",
       "      <td>LgThNJhNSgTJVgvgtg</td>\n",
       "      <td>hPhbpfWzfbwfPmpprb</td>\n",
       "      <td>h</td>\n",
       "      <td>8</td>\n",
       "    </tr>\n",
       "    <tr>\n",
       "      <th>3</th>\n",
       "      <td>lDLnSnLZR</td>\n",
       "      <td>jmWrlhrFF</td>\n",
       "      <td>l</td>\n",
       "      <td>12</td>\n",
       "    </tr>\n",
       "    <tr>\n",
       "      <th>4</th>\n",
       "      <td>PffQJNqJbPZb</td>\n",
       "      <td>pmjrrCVNFmCh</td>\n",
       "      <td>N</td>\n",
       "      <td>40</td>\n",
       "    </tr>\n",
       "  </tbody>\n",
       "</table>\n",
       "</div>"
      ],
      "text/plain": [
       "                     first                   second match  prio\n",
       "0             fzmmmfwDWFzl             QQqjCQjDGnqq     D    30\n",
       "1  tJHJvLJVVttNsvTtTvgHHSV  wCsQRQQZCZZMqQMQBnqBMQs     s    19\n",
       "2       LgThNJhNSgTJVgvgtg       hPhbpfWzfbwfPmpprb     h     8\n",
       "3                lDLnSnLZR                jmWrlhrFF     l    12\n",
       "4             PffQJNqJbPZb             pmjrrCVNFmCh     N    40"
      ]
     },
     "execution_count": 8,
     "metadata": {},
     "output_type": "execute_result"
    }
   ],
   "source": [
    "df.head()"
   ]
  },
  {
   "cell_type": "code",
   "execution_count": 9,
   "metadata": {},
   "outputs": [
    {
     "data": {
      "text/plain": [
       "8515"
      ]
     },
     "execution_count": 9,
     "metadata": {},
     "output_type": "execute_result"
    }
   ],
   "source": [
    "sum(df['prio'])"
   ]
  }
 ],
 "metadata": {
  "kernelspec": {
   "display_name": "Python 3.10.8 ('venv': venv)",
   "language": "python",
   "name": "python3"
  },
  "language_info": {
   "codemirror_mode": {
    "name": "ipython",
    "version": 3
   },
   "file_extension": ".py",
   "mimetype": "text/x-python",
   "name": "python",
   "nbconvert_exporter": "python",
   "pygments_lexer": "ipython3",
   "version": "3.10.8"
  },
  "orig_nbformat": 4,
  "vscode": {
   "interpreter": {
    "hash": "1d83de968a5503150db6c5cc46c1246f690e138e7e61ece9303930307d16413f"
   }
  }
 },
 "nbformat": 4,
 "nbformat_minor": 2
}
