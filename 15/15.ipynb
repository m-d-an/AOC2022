{
 "cells": [
  {
   "cell_type": "code",
   "execution_count": 98,
   "metadata": {},
   "outputs": [],
   "source": [
    "import re"
   ]
  },
  {
   "cell_type": "code",
   "execution_count": 99,
   "metadata": {},
   "outputs": [],
   "source": [
    "# Puzzle input\n",
    "file = 'input.txt'"
   ]
  },
  {
   "cell_type": "code",
   "execution_count": 100,
   "metadata": {},
   "outputs": [],
   "source": [
    "# Example 1\n",
    "file = 'input_ex1.txt'"
   ]
  },
  {
   "cell_type": "code",
   "execution_count": 101,
   "metadata": {},
   "outputs": [],
   "source": [
    "file = open(file, 'r')\n",
    "input = file.readlines()\n",
    "file.close()"
   ]
  },
  {
   "cell_type": "code",
   "execution_count": 102,
   "metadata": {},
   "outputs": [],
   "source": [
    "# dict with sensors and corresponding beacon\n",
    "sb = {}\n",
    "for line in input:\n",
    "    split = re.split(' |=|,|:', line.strip())\n",
    "    sb[(int(split[3]),int(split[6]))] = (int(split[13]),int(split[16]))"
   ]
  },
  {
   "cell_type": "code",
   "execution_count": 103,
   "metadata": {},
   "outputs": [],
   "source": [
    "# min and max x,y\n",
    "from operator import itemgetter\n",
    "max_x = max(max(sb.keys(), key=itemgetter(0))[0], max(sb.values(), key=itemgetter(0))[0])\n",
    "min_x = min(min(sb.keys(), key=itemgetter(0))[0], min(sb.values(), key=itemgetter(0))[0])\n",
    "max_y = max(max(sb.keys(), key=itemgetter(1))[1], max(sb.values(), key=itemgetter(1))[1])\n",
    "min_y = min(min(sb.keys(), key=itemgetter(1))[1], min(sb.values(), key=itemgetter(1))[1])"
   ]
  },
  {
   "cell_type": "code",
   "execution_count": 104,
   "metadata": {},
   "outputs": [],
   "source": [
    "def get_manhattan_distance(p1, p2):\n",
    "    return abs(p1[0] - p2[0]) + abs(p1[1] - p2[1])"
   ]
  },
  {
   "cell_type": "code",
   "execution_count": 105,
   "metadata": {},
   "outputs": [],
   "source": [
    "def print_grid():\n",
    "    for i in range(min_x,max_x,1):\n",
    "        line = \"\"\n",
    "        for j in range(min_y, max_y, 1):\n",
    "            if (i,j) in sb.keys():\n",
    "                line += \"S\"\n",
    "            else:\n",
    "                line += \".\"\n",
    "        print(line)\n",
    "    return"
   ]
  },
  {
   "cell_type": "code",
   "execution_count": 106,
   "metadata": {},
   "outputs": [
    {
     "name": "stdout",
     "output_type": "stream",
     "text": [
      "......................\n",
      "......................\n",
      "...........S..........\n",
      "......................\n",
      "S.................S...\n",
      "......................\n",
      "......................\n",
      "......................\n",
      "......................\n",
      "......................\n",
      ".......S..............\n",
      "................S.....\n",
      "....................S.\n",
      "......................\n",
      "..............S.......\n",
      "..S...................\n",
      "...S.............S....\n",
      "......................\n",
      ".......S..............\n",
      "....................S.\n",
      "......................\n",
      "......................\n",
      ".S............S.......\n",
      "......................\n",
      "......................\n",
      "......................\n",
      "......................\n"
     ]
    }
   ],
   "source": [
    "print_grid()"
   ]
  },
  {
   "cell_type": "code",
   "execution_count": 107,
   "metadata": {},
   "outputs": [
    {
     "data": {
      "text/plain": [
       "{(2, 18): (-2, 15),\n",
       " (9, 16): (10, 16),\n",
       " (13, 2): (15, 3),\n",
       " (12, 14): (10, 16),\n",
       " (10, 20): (10, 16),\n",
       " (14, 17): (10, 16),\n",
       " (8, 7): (2, 10),\n",
       " (2, 0): (2, 10),\n",
       " (0, 11): (2, 10),\n",
       " (20, 14): (25, 17),\n",
       " (17, 20): (21, 22),\n",
       " (16, 7): (15, 3),\n",
       " (14, 3): (15, 3),\n",
       " (20, 1): (15, 3)}"
      ]
     },
     "execution_count": 107,
     "metadata": {},
     "output_type": "execute_result"
    }
   ],
   "source": [
    "sb"
   ]
  },
  {
   "cell_type": "code",
   "execution_count": 108,
   "metadata": {},
   "outputs": [
    {
     "ename": "SyntaxError",
     "evalue": "invalid syntax (2540746682.py, line 1)",
     "output_type": "error",
     "traceback": [
      "\u001b[0;36m  Cell \u001b[0;32mIn [108], line 1\u001b[0;36m\u001b[0m\n\u001b[0;31m    lambda max(x[0]): x in sb.values()\u001b[0m\n\u001b[0m              ^\u001b[0m\n\u001b[0;31mSyntaxError\u001b[0m\u001b[0;31m:\u001b[0m invalid syntax\n"
     ]
    }
   ],
   "source": [
    "lambda max(x[0]): x in sb.values()"
   ]
  },
  {
   "cell_type": "code",
   "execution_count": null,
   "metadata": {},
   "outputs": [
    {
     "data": {
      "text/plain": [
       "(25, 17)"
      ]
     },
     "execution_count": 65,
     "metadata": {},
     "output_type": "execute_result"
    }
   ],
   "source": []
  },
  {
   "cell_type": "code",
   "execution_count": null,
   "metadata": {},
   "outputs": [
    {
     "data": {
      "text/plain": [
       "(21, 22)"
      ]
     },
     "execution_count": 62,
     "metadata": {},
     "output_type": "execute_result"
    }
   ],
   "source": [
    "max(sb.values(), key=lambda x:x[1])"
   ]
  },
  {
   "cell_type": "code",
   "execution_count": null,
   "metadata": {},
   "outputs": [
    {
     "data": {
      "text/plain": [
       "20"
      ]
     },
     "execution_count": 52,
     "metadata": {},
     "output_type": "execute_result"
    }
   ],
   "source": [
    "max(max(sb, key=sb.get))"
   ]
  },
  {
   "cell_type": "code",
   "execution_count": null,
   "metadata": {},
   "outputs": [],
   "source": []
  }
 ],
 "metadata": {
  "kernelspec": {
   "display_name": "Python 3.10.8 ('venv')",
   "language": "python",
   "name": "python3"
  },
  "language_info": {
   "codemirror_mode": {
    "name": "ipython",
    "version": 3
   },
   "file_extension": ".py",
   "mimetype": "text/x-python",
   "name": "python",
   "nbconvert_exporter": "python",
   "pygments_lexer": "ipython3",
   "version": "3.10.8"
  },
  "orig_nbformat": 4,
  "vscode": {
   "interpreter": {
    "hash": "1d83de968a5503150db6c5cc46c1246f690e138e7e61ece9303930307d16413f"
   }
  }
 },
 "nbformat": 4,
 "nbformat_minor": 2
}
