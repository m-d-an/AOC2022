{
 "cells": [
  {
   "cell_type": "code",
   "execution_count": 181,
   "metadata": {},
   "outputs": [],
   "source": [
    "import re\n",
    "from operator import itemgetter"
   ]
  },
  {
   "cell_type": "code",
   "execution_count": 182,
   "metadata": {},
   "outputs": [],
   "source": [
    "demo = False\n",
    "if (demo):\n",
    "    file = 'input_ex1.txt'\n",
    "else:\n",
    "    # Puzzle input\n",
    "    file = 'input.txt'"
   ]
  },
  {
   "cell_type": "code",
   "execution_count": 183,
   "metadata": {},
   "outputs": [],
   "source": [
    "file = open(file, 'r')\n",
    "input = file.readlines()\n",
    "file.close()"
   ]
  },
  {
   "cell_type": "code",
   "execution_count": 184,
   "metadata": {},
   "outputs": [],
   "source": [
    "# dict with sensors and corresponding beacon\n",
    "sb = {}\n",
    "for line in input:\n",
    "    split = re.split(' |=|,|:', line.strip())\n",
    "    sb[(int(split[3]),int(split[6]))] = (int(split[13]),int(split[16]))"
   ]
  },
  {
   "cell_type": "code",
   "execution_count": 185,
   "metadata": {},
   "outputs": [],
   "source": [
    "def get_manhattan_distance(p1, p2):\n",
    "    return abs(p1[0] - p2[0]) + abs(p1[1] - p2[1])"
   ]
  },
  {
   "cell_type": "code",
   "execution_count": 186,
   "metadata": {},
   "outputs": [],
   "source": [
    "# cache manhattan distances for sensor beacon pairs\n",
    "md_sb = {}\n",
    "for s in sb.keys():\n",
    "    md_sb[s] = get_manhattan_distance(s, sb[s])"
   ]
  },
  {
   "cell_type": "code",
   "execution_count": 187,
   "metadata": {},
   "outputs": [],
   "source": [
    "def check_if_point_in_range_of_sensor(p, s):\n",
    "    if get_manhattan_distance(p, s) <= md_sb[s]:\n",
    "        return True\n",
    "    else:\n",
    "        False"
   ]
  },
  {
   "cell_type": "code",
   "execution_count": 188,
   "metadata": {},
   "outputs": [],
   "source": [
    "def check_if_point_in_range_of_any_sensor(p):\n",
    "    for s in sb.keys():\n",
    "        if check_if_point_in_range_of_sensor(p, s):\n",
    "            return True\n",
    "    return False"
   ]
  },
  {
   "cell_type": "code",
   "execution_count": 189,
   "metadata": {},
   "outputs": [],
   "source": [
    "def get_max_x():\n",
    "    l = []\n",
    "    for s in sb.keys():\n",
    "        l.append(s[0] + get_manhattan_distance(s, sb[s]))\n",
    "    return max(l)"
   ]
  },
  {
   "cell_type": "code",
   "execution_count": 190,
   "metadata": {},
   "outputs": [],
   "source": [
    "def get_max_y():\n",
    "    l = []\n",
    "    for s in sb.keys():\n",
    "        l.append(s[1] + get_manhattan_distance(s, sb[s]))\n",
    "    return max(l)"
   ]
  },
  {
   "cell_type": "code",
   "execution_count": 191,
   "metadata": {},
   "outputs": [],
   "source": [
    "def get_min_x():\n",
    "    l = []\n",
    "    for s in sb.keys():\n",
    "        l.append(s[0] - get_manhattan_distance(s, sb[s]))\n",
    "    return min(l)"
   ]
  },
  {
   "cell_type": "code",
   "execution_count": 192,
   "metadata": {},
   "outputs": [],
   "source": [
    "def get_min_y():\n",
    "    l = []\n",
    "    for s in sb.keys():\n",
    "        l.append(s[1] - get_manhattan_distance(s, sb[s]))\n",
    "    return min(l)"
   ]
  },
  {
   "cell_type": "code",
   "execution_count": 193,
   "metadata": {},
   "outputs": [],
   "source": [
    "max_x = get_max_x()\n",
    "max_y = get_max_y()\n",
    "min_x = get_min_x()\n",
    "min_y = get_min_y()"
   ]
  },
  {
   "cell_type": "code",
   "execution_count": 194,
   "metadata": {},
   "outputs": [],
   "source": [
    "def print_grid():\n",
    "    for y in range(min_y,max_y+1,1):\n",
    "        line = \"%03d \" % (y,)\n",
    "        for x in range(min_x, max_x+1, 1):\n",
    "            if (x,y) in sb.keys():\n",
    "                line += \"S\"\n",
    "            elif (x,y) in sb.values():\n",
    "                line += \"B\"  \n",
    "            elif check_if_point_in_range_of_any_sensor((x,y)):\n",
    "                line += \"#\"\n",
    "            else:\n",
    "                line += \".\"\n",
    "        print(line)\n",
    "    return"
   ]
  },
  {
   "cell_type": "code",
   "execution_count": 195,
   "metadata": {},
   "outputs": [],
   "source": [
    "if demo:\n",
    "    print_grid()"
   ]
  },
  {
   "cell_type": "code",
   "execution_count": 196,
   "metadata": {},
   "outputs": [],
   "source": [
    "def diff_in_md_for_point_and_sensor(p, s):\n",
    "    return md_sb[s] - get_manhattan_distance(p, s)"
   ]
  },
  {
   "cell_type": "code",
   "execution_count": 197,
   "metadata": {},
   "outputs": [],
   "source": [
    "def biggest_diff_in_md_for_point(p):\n",
    "    l = []\n",
    "    for s in sb.keys():\n",
    "        l.append(diff_in_md_for_point_and_sensor(p, s))\n",
    "    return max(l)"
   ]
  },
  {
   "cell_type": "code",
   "execution_count": 198,
   "metadata": {},
   "outputs": [],
   "source": [
    "def get_space_wo_beacons_for_y(y):\n",
    "    num_spaces = 0\n",
    "    x = min_x\n",
    "    while (x < max_x+1):\n",
    "        diff = biggest_diff_in_md_for_point((x,y))\n",
    "        if diff>=0:\n",
    "            num_spaces += diff + 1\n",
    "            x += diff\n",
    "        x += 1\n",
    "    # subtract number of beacons in beacons\n",
    "    for s in set(sb.values()):\n",
    "        if s[1] == y:\n",
    "            num_spaces -= 1\n",
    "    return num_spaces "
   ]
  },
  {
   "cell_type": "code",
   "execution_count": 199,
   "metadata": {},
   "outputs": [],
   "source": [
    "def search_area(min_v, max_v):\n",
    "    for y in range(min_v, max_v, 1):\n",
    "        if y%100000==0:\n",
    "            print(\"y: \"+str(y))\n",
    "        x = min_v\n",
    "        while (x < max_v+1):\n",
    "            diff = biggest_diff_in_md_for_point((x,y))\n",
    "            if diff < 0:\n",
    "                return (x,y)\n",
    "            else:\n",
    "                x += diff\n",
    "            x += 1\n",
    "    return None"
   ]
  },
  {
   "cell_type": "code",
   "execution_count": 200,
   "metadata": {},
   "outputs": [
    {
     "name": "stdout",
     "output_type": "stream",
     "text": [
      "y: 0\n",
      "y: 100000\n",
      "y: 200000\n",
      "y: 300000\n",
      "y: 400000\n",
      "y: 500000\n",
      "y: 600000\n",
      "y: 700000\n",
      "y: 800000\n",
      "y: 900000\n",
      "y: 1000000\n",
      "y: 1100000\n",
      "y: 1200000\n",
      "y: 1300000\n",
      "y: 1400000\n",
      "y: 1500000\n",
      "y: 1600000\n",
      "y: 1700000\n",
      "y: 1800000\n",
      "y: 1900000\n",
      "y: 2000000\n",
      "y: 2100000\n",
      "y: 2200000\n",
      "y: 2300000\n",
      "y: 2400000\n",
      "y: 2500000\n",
      "y: 2600000\n",
      "y: 2700000\n",
      "y: 2800000\n",
      "y: 2900000\n",
      "y: 3000000\n",
      "y: 3100000\n",
      "y: 3200000\n",
      "10826395253551\n"
     ]
    }
   ],
   "source": [
    "if demo:\n",
    "    print(point)\n",
    "    point = search_area(0,20)\n",
    "    print(point[0]*4000000+point[1])\n",
    "else:\n",
    "    point = search_area(0,4000000)\n",
    "    print(point[0]*4000000+point[1])"
   ]
  }
 ],
 "metadata": {
  "kernelspec": {
   "display_name": "Python 3.10.8 ('venv')",
   "language": "python",
   "name": "python3"
  },
  "language_info": {
   "codemirror_mode": {
    "name": "ipython",
    "version": 3
   },
   "file_extension": ".py",
   "mimetype": "text/x-python",
   "name": "python",
   "nbconvert_exporter": "python",
   "pygments_lexer": "ipython3",
   "version": "3.10.8"
  },
  "orig_nbformat": 4,
  "vscode": {
   "interpreter": {
    "hash": "1d83de968a5503150db6c5cc46c1246f690e138e7e61ece9303930307d16413f"
   }
  }
 },
 "nbformat": 4,
 "nbformat_minor": 2
}
