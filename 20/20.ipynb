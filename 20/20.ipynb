{
 "cells": [
  {
   "cell_type": "code",
   "execution_count": 1,
   "metadata": {},
   "outputs": [],
   "source": [
    "demo = False\n",
    "if (demo):\n",
    "    file = 'input_ex1.txt'\n",
    "else:\n",
    "    # Puzzle input\n",
    "    file = 'input.txt'"
   ]
  },
  {
   "cell_type": "code",
   "execution_count": 2,
   "metadata": {},
   "outputs": [],
   "source": [
    "file = open(file, 'r')\n",
    "input = file.readlines()\n",
    "file.close()"
   ]
  },
  {
   "cell_type": "code",
   "execution_count": 3,
   "metadata": {},
   "outputs": [],
   "source": [
    "def move_value(values, i, v):\n",
    "    # get calculated index\n",
    "    new_index = i+v[0] \n",
    "    # remove entry\n",
    "    del values[i]\n",
    "\n",
    "    # adapt index to list size\n",
    "    if new_index == 0:\n",
    "        new_index = len(values)\n",
    "    else:\n",
    "        new_index = new_index % len(values)\n",
    "            \n",
    "    # insert into list at new index\n",
    "    values.insert(new_index, (v[0],True))"
   ]
  },
  {
   "cell_type": "code",
   "execution_count": 4,
   "metadata": {},
   "outputs": [],
   "source": [
    "def get_next_unmoved_value(values):\n",
    "    for i, v in enumerate(values):\n",
    "        # get first value which wasn't moved\n",
    "        if not v[1]:\n",
    "            # return index and tuple\n",
    "            return i, v\n",
    "    return None"
   ]
  },
  {
   "cell_type": "code",
   "execution_count": 5,
   "metadata": {},
   "outputs": [],
   "source": [
    "# read data and save as tuples to list\n",
    "# False means it wasn't moved\n",
    "# True means it was already moved\n",
    "values = []\n",
    "for line in input:\n",
    "    values.append((int(line.strip()), False))"
   ]
  },
  {
   "cell_type": "code",
   "execution_count": 6,
   "metadata": {},
   "outputs": [],
   "source": [
    "while(True):\n",
    "    if get_next_unmoved_value(values) == None:\n",
    "        break\n",
    "    i, v = get_next_unmoved_value(values)\n",
    "    move_value(values, i, v)"
   ]
  },
  {
   "cell_type": "code",
   "execution_count": 7,
   "metadata": {},
   "outputs": [],
   "source": [
    "i0 = values.index((0,True))\n",
    "i1000 = values[(i0+1000)%len(values)][0]\n",
    "i2000 = values[(i0+2000)%len(values)][0]\n",
    "i3000 = values[(i0+3000)%len(values)][0]"
   ]
  },
  {
   "cell_type": "code",
   "execution_count": 8,
   "metadata": {},
   "outputs": [
    {
     "data": {
      "text/plain": [
       "9945"
      ]
     },
     "execution_count": 8,
     "metadata": {},
     "output_type": "execute_result"
    }
   ],
   "source": [
    "sum((i1000, i2000, i3000))\n",
    "# 9945"
   ]
  }
 ],
 "metadata": {
  "kernelspec": {
   "display_name": "Python 3.10.8 ('venv')",
   "language": "python",
   "name": "python3"
  },
  "language_info": {
   "codemirror_mode": {
    "name": "ipython",
    "version": 3
   },
   "file_extension": ".py",
   "mimetype": "text/x-python",
   "name": "python",
   "nbconvert_exporter": "python",
   "pygments_lexer": "ipython3",
   "version": "3.10.8"
  },
  "orig_nbformat": 4,
  "vscode": {
   "interpreter": {
    "hash": "1d83de968a5503150db6c5cc46c1246f690e138e7e61ece9303930307d16413f"
   }
  }
 },
 "nbformat": 4,
 "nbformat_minor": 2
}
