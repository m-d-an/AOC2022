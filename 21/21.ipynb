{
 "cells": [
  {
   "cell_type": "code",
   "execution_count": 1,
   "metadata": {},
   "outputs": [],
   "source": [
    "import re"
   ]
  },
  {
   "cell_type": "code",
   "execution_count": 2,
   "metadata": {},
   "outputs": [],
   "source": [
    "demo = False\n",
    "if (demo):\n",
    "    file = 'input_ex1.txt'\n",
    "else:\n",
    "    # Puzzle input\n",
    "    file = 'input.txt'"
   ]
  },
  {
   "cell_type": "code",
   "execution_count": 3,
   "metadata": {},
   "outputs": [],
   "source": [
    "file = open(file, 'r')\n",
    "input = file.readlines()\n",
    "file.close()"
   ]
  },
  {
   "cell_type": "code",
   "execution_count": 4,
   "metadata": {},
   "outputs": [],
   "source": [
    "monkeys = {}\n",
    "for line in input:\n",
    "    split = re.split(' |:', line.strip())\n",
    "    if len(split) == 3:\n",
    "        monkeys[split[0]] = int(split[2])\n",
    "    else:\n",
    "        monkeys[split[0]] = (split[2],split[3],split[4])"
   ]
  },
  {
   "cell_type": "code",
   "execution_count": 5,
   "metadata": {},
   "outputs": [],
   "source": [
    "def monkey_result(monkey):\n",
    "    command = monkeys[monkey]\n",
    "    if type(command) == int:\n",
    "        return command\n",
    "    else:\n",
    "        if command[1] == '+':\n",
    "            return monkey_result(command[0]) + monkey_result(command[2])\n",
    "        elif command[1] == '-':\n",
    "            return monkey_result(command[0]) - monkey_result(command[2])\n",
    "        elif command[1] == '*':\n",
    "            return int(monkey_result(command[0]) * monkey_result(command[2]))\n",
    "        elif command[1] == '/':\n",
    "            return monkey_result(command[0]) / monkey_result(command[2])"
   ]
  },
  {
   "cell_type": "code",
   "execution_count": 6,
   "metadata": {},
   "outputs": [
    {
     "data": {
      "text/plain": [
       "157714751182692"
      ]
     },
     "execution_count": 6,
     "metadata": {},
     "output_type": "execute_result"
    }
   ],
   "source": [
    "# solution a\n",
    "monkey_result('root')"
   ]
  }
 ],
 "metadata": {
  "kernelspec": {
   "display_name": "Python 3.10.8 64-bit",
   "language": "python",
   "name": "python3"
  },
  "language_info": {
   "codemirror_mode": {
    "name": "ipython",
    "version": 3
   },
   "file_extension": ".py",
   "mimetype": "text/x-python",
   "name": "python",
   "nbconvert_exporter": "python",
   "pygments_lexer": "ipython3",
   "version": "3.10.8"
  },
  "orig_nbformat": 4,
  "vscode": {
   "interpreter": {
    "hash": "aee8b7b246df8f9039afb4144a1f6fd8d2ca17a180786b69acc140d282b71a49"
   }
  }
 },
 "nbformat": 4,
 "nbformat_minor": 2
}
