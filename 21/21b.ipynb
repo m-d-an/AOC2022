{
 "cells": [
  {
   "cell_type": "code",
   "execution_count": 1,
   "metadata": {},
   "outputs": [],
   "source": [
    "import re"
   ]
  },
  {
   "cell_type": "code",
   "execution_count": 2,
   "metadata": {},
   "outputs": [],
   "source": [
    "demo = False\n",
    "if (demo):\n",
    "    file = 'input_ex1.txt'\n",
    "else:\n",
    "    # Puzzle input\n",
    "    file = 'input.txt'"
   ]
  },
  {
   "cell_type": "code",
   "execution_count": 3,
   "metadata": {},
   "outputs": [],
   "source": [
    "file = open(file, 'r')\n",
    "input = file.readlines()\n",
    "file.close()"
   ]
  },
  {
   "cell_type": "code",
   "execution_count": 4,
   "metadata": {},
   "outputs": [],
   "source": [
    "monkeys = {}\n",
    "for line in input:\n",
    "    split = re.split(' |:', line.strip())\n",
    "    if len(split) == 3:\n",
    "        monkeys[split[0]] = int(split[2])\n",
    "    else:\n",
    "        monkeys[split[0]] = (split[2],split[3],split[4])"
   ]
  },
  {
   "cell_type": "code",
   "execution_count": 5,
   "metadata": {},
   "outputs": [],
   "source": [
    "def monkey_compute():\n",
    "    return"
   ]
  },
  {
   "cell_type": "code",
   "execution_count": 6,
   "metadata": {},
   "outputs": [],
   "source": [
    "def monkey_result(monkey):\n",
    "    command = monkeys[monkey]\n",
    "    if monkey == 'humn':\n",
    "        return None\n",
    "    elif type(command) == int:\n",
    "        return command\n",
    "    else:\n",
    "        result1 = monkey_result(command[0])\n",
    "        result2 = monkey_result(command[2])\n",
    "\n",
    "        if result1 == None:\n",
    "            result_path[command[0]] = result2\n",
    "            return None \n",
    "        elif result2 == None:\n",
    "            result_path[command[2]] = result1\n",
    "            return None\n",
    "        elif command[1] == '+':\n",
    "            return result1 + result2\n",
    "        elif command[1] == '-':\n",
    "            return result1 - result2\n",
    "        elif command[1] == '*':\n",
    "            return int(result1 * result2)\n",
    "        elif command[1] == '/':\n",
    "            return result1 / result2"
   ]
  },
  {
   "cell_type": "code",
   "execution_count": 7,
   "metadata": {},
   "outputs": [],
   "source": [
    "def humn_input(monkey, result):\n",
    "    if monkey == 'humn':\n",
    "        return result\n",
    "\n",
    "    command = monkeys[monkey]\n",
    "\n",
    "    if command[0] == list(result_path)[-1]:\n",
    "        undef_index = 0\n",
    "    else:\n",
    "        undef_index = 2\n",
    "\n",
    "    next = result_path.popitem()\n",
    "\n",
    "    if command[1] == '+':\n",
    "        return humn_input(next[0], result - next[1])\n",
    "    elif command[1] == '-' and undef_index == 0:\n",
    "        return humn_input(next[0], result + next[1])\n",
    "    elif command[1] == '-' and undef_index == 2:\n",
    "        return humn_input(next[0], next[1] - result)\n",
    "    elif command[1] == '*':\n",
    "        return humn_input(next[0], int(result / next[1]))\n",
    "    elif command[1] == '/' and undef_index == 0:\n",
    "        return humn_input(next[0], result * next[1])\n",
    "    elif command[1] == '/' and undef_index == 2:\n",
    "        return humn_input(next[0], int(next[1] / result))\n",
    "    "
   ]
  },
  {
   "cell_type": "code",
   "execution_count": 8,
   "metadata": {},
   "outputs": [
    {
     "data": {
      "text/plain": [
       "3373767893067"
      ]
     },
     "execution_count": 8,
     "metadata": {},
     "output_type": "execute_result"
    }
   ],
   "source": [
    "# solution b\n",
    "result_path = {}\n",
    "monkey_result('root')\n",
    "#print(result_path)\n",
    "start = result_path.popitem()\n",
    "humn_input(start[0], start[1])"
   ]
  }
 ],
 "metadata": {
  "kernelspec": {
   "display_name": "Python 3.10.8 64-bit",
   "language": "python",
   "name": "python3"
  },
  "language_info": {
   "codemirror_mode": {
    "name": "ipython",
    "version": 3
   },
   "file_extension": ".py",
   "mimetype": "text/x-python",
   "name": "python",
   "nbconvert_exporter": "python",
   "pygments_lexer": "ipython3",
   "version": "3.10.8"
  },
  "orig_nbformat": 4,
  "vscode": {
   "interpreter": {
    "hash": "aee8b7b246df8f9039afb4144a1f6fd8d2ca17a180786b69acc140d282b71a49"
   }
  }
 },
 "nbformat": 4,
 "nbformat_minor": 2
}
