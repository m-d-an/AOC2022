file = open('input.txt', 'r')
input = file.readlines()
file.close()