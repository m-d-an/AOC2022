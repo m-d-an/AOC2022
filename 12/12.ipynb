{
 "cells": [
  {
   "cell_type": "code",
   "execution_count": 1,
   "metadata": {},
   "outputs": [],
   "source": [
    "import numpy as np"
   ]
  },
  {
   "cell_type": "code",
   "execution_count": 2,
   "metadata": {},
   "outputs": [],
   "source": [
    "# Example 1\n",
    "file = 'input_ex1.txt'"
   ]
  },
  {
   "cell_type": "code",
   "execution_count": 3,
   "metadata": {},
   "outputs": [],
   "source": [
    "# Puzzle input\n",
    "file = 'input.txt'"
   ]
  },
  {
   "cell_type": "code",
   "execution_count": 4,
   "metadata": {},
   "outputs": [],
   "source": [
    "file = open(file, 'r')\n",
    "input = file.readlines()\n",
    "file.close()"
   ]
  },
  {
   "cell_type": "code",
   "execution_count": 5,
   "metadata": {},
   "outputs": [],
   "source": [
    "edge_len = len(input[0].strip())\n",
    "map = np.empty([len(input), edge_len])\n",
    "visited = np.zeros([len(input), edge_len])"
   ]
  },
  {
   "cell_type": "code",
   "execution_count": 6,
   "metadata": {},
   "outputs": [],
   "source": [
    "for i, line in enumerate(input):\n",
    "    for j, c in enumerate(line.strip()):\n",
    "        if(c == 'S'):\n",
    "            S = [i,j]\n",
    "            map[i,j] = 1\n",
    "        elif(c == 'E'):\n",
    "            E = [i,j]\n",
    "            map[i,j] = 26\n",
    "        else:\n",
    "            map[i,j] = ord(c) - 96"
   ]
  },
  {
   "cell_type": "code",
   "execution_count": 7,
   "metadata": {},
   "outputs": [],
   "source": [
    "def possible_way(i1, j1, i2, j2):\n",
    "    #print(\"possible_way(\"+str(i1)+\", \"+str(i2)+\", \"+str(j1)+\", \"+str(j2))\n",
    "    if (i2 < 0 or i2 >= len(map) or j2 < 0 or j2 >= len(map[i1])):\n",
    "        return False\n",
    "    if (map[i1,j1] + 1 < map[i2, j2]):\n",
    "        return False\n",
    "    else:\n",
    "        return True\n"
   ]
  },
  {
   "cell_type": "code",
   "execution_count": 8,
   "metadata": {},
   "outputs": [],
   "source": [
    "def try_next(counter, i, j):\n",
    "    #print(\"try_next(\"+str(counter)+\",\"+str(i)+\",\"+str(j)+\")\")\n",
    "    value = map[i,j]\n",
    "\n",
    "    if (counter == -1):\n",
    "        return counter\n",
    "\n",
    "    if (visited[i,j] == 0 or visited[i,j] > counter):\n",
    "        visited[i,j] = counter\n",
    "    else:\n",
    "        return -1\n",
    "\n",
    "    if(possible_way(i, j, i+1, j)):\n",
    "        try_next(counter+1, i+1, j)\n",
    "    if(possible_way(i, j, i-1, j)):\n",
    "        try_next(counter+1, i-1, j)\n",
    "    if(possible_way(i, j, i, j+1)):\n",
    "        try_next(counter+1, i, j+1)\n",
    "    if(possible_way(i, j, i, j-1)):\n",
    "        try_next(counter+1, i, j-1)\n",
    "    return counter"
   ]
  },
  {
   "cell_type": "code",
   "execution_count": 9,
   "metadata": {},
   "outputs": [
    {
     "data": {
      "text/plain": [
       "394.0"
      ]
     },
     "execution_count": 9,
     "metadata": {},
     "output_type": "execute_result"
    }
   ],
   "source": [
    "# solution a\n",
    "try_next(0, S[0], S[1])\n",
    "visited[E[0],E[1]]"
   ]
  },
  {
   "cell_type": "code",
   "execution_count": 10,
   "metadata": {},
   "outputs": [],
   "source": [
    "def search_for_each_a(results):\n",
    "    for a in np.argwhere(map==1):\n",
    "        try_next(0, a[0], a[1])\n",
    "        results.append(visited[E[0],E[1]])\n",
    "    return results"
   ]
  },
  {
   "cell_type": "code",
   "execution_count": 11,
   "metadata": {},
   "outputs": [
    {
     "data": {
      "text/plain": [
       "388.0"
      ]
     },
     "execution_count": 11,
     "metadata": {},
     "output_type": "execute_result"
    }
   ],
   "source": [
    "# solution b\n",
    "results = []\n",
    "search_for_each_a(results)\n",
    "min(results)"
   ]
  }
 ],
 "metadata": {
  "kernelspec": {
   "display_name": "Python 3.10.8 ('venv')",
   "language": "python",
   "name": "python3"
  },
  "language_info": {
   "codemirror_mode": {
    "name": "ipython",
    "version": 3
   },
   "file_extension": ".py",
   "mimetype": "text/x-python",
   "name": "python",
   "nbconvert_exporter": "python",
   "pygments_lexer": "ipython3",
   "version": "3.10.8"
  },
  "orig_nbformat": 4,
  "vscode": {
   "interpreter": {
    "hash": "1d83de968a5503150db6c5cc46c1246f690e138e7e61ece9303930307d16413f"
   }
  }
 },
 "nbformat": 4,
 "nbformat_minor": 2
}
