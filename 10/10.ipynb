{
 "cells": [
  {
   "cell_type": "code",
   "execution_count": 1,
   "metadata": {},
   "outputs": [],
   "source": [
    "file = open('input.txt', 'r')\n",
    "input = file.readlines()\n",
    "file.close()"
   ]
  },
  {
   "cell_type": "code",
   "execution_count": 2,
   "metadata": {},
   "outputs": [],
   "source": [
    "# list of register entries with cycle as index\n",
    "regs = [1, 1]"
   ]
  },
  {
   "cell_type": "code",
   "execution_count": 3,
   "metadata": {},
   "outputs": [],
   "source": [
    "def addx(x):\n",
    "    regs.append(regs[-1])\n",
    "    regs.append(regs[-1]+x)"
   ]
  },
  {
   "cell_type": "code",
   "execution_count": 4,
   "metadata": {},
   "outputs": [],
   "source": [
    "for line in input:\n",
    "    split = line.split()\n",
    "    if(split[0] == \"addx\"):\n",
    "        addx(int(split[1]))\n",
    "    elif(split[0] == \"noop\"):\n",
    "        regs.append(regs[-1])"
   ]
  },
  {
   "cell_type": "code",
   "execution_count": 5,
   "metadata": {},
   "outputs": [
    {
     "data": {
      "text/plain": [
       "14720"
      ]
     },
     "execution_count": 5,
     "metadata": {},
     "output_type": "execute_result"
    }
   ],
   "source": [
    "# solution a\n",
    "signal_sum = regs[20] * 20 + regs[60] * 60 + regs[100] * 100 + regs[140] * 140 + regs[180] * 180 + regs[220] * 220\n",
    "signal_sum"
   ]
  },
  {
   "cell_type": "code",
   "execution_count": 6,
   "metadata": {},
   "outputs": [],
   "source": [
    "def print_line(regs):\n",
    "    line = \"\"\n",
    "    for i, reg in enumerate(regs):\n",
    "        if (reg >= i-1 and reg <= i+1):\n",
    "            line += '#'\n",
    "        else: \n",
    "            line += '.'\n",
    "    print(line)"
   ]
  },
  {
   "cell_type": "code",
   "execution_count": 7,
   "metadata": {},
   "outputs": [
    {
     "name": "stdout",
     "output_type": "stream",
     "text": [
      "####.####.###..###..###..####.####.####\n",
      "#.......#.#..#.#..#.#..#.#.......#.#...\n",
      "###....#..###..#..#.###..###....#..###.\n",
      "#.....#...#..#.###..#..#.#.....#...#...\n",
      "#....#....#..#.#....#..#.#....#....#...\n",
      "#....####.###..#....###..#....####.#...\n"
     ]
    }
   ],
   "source": [
    "# solution b\n",
    "for i in range(int(len(regs) / 40)):\n",
    "    print_line(regs[i*40+1:(i+1)*40])"
   ]
  }
 ],
 "metadata": {
  "kernelspec": {
   "display_name": "Python 3.10.8 ('venv')",
   "language": "python",
   "name": "python3"
  },
  "language_info": {
   "codemirror_mode": {
    "name": "ipython",
    "version": 3
   },
   "file_extension": ".py",
   "mimetype": "text/x-python",
   "name": "python",
   "nbconvert_exporter": "python",
   "pygments_lexer": "ipython3",
   "version": "3.10.8"
  },
  "orig_nbformat": 4,
  "vscode": {
   "interpreter": {
    "hash": "1d83de968a5503150db6c5cc46c1246f690e138e7e61ece9303930307d16413f"
   }
  }
 },
 "nbformat": 4,
 "nbformat_minor": 2
}
