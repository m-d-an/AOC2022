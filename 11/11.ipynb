{
 "cells": [
  {
   "cell_type": "code",
   "execution_count": 1,
   "metadata": {},
   "outputs": [],
   "source": [
    "import re\n",
    "from enum import Enum"
   ]
  },
  {
   "cell_type": "code",
   "execution_count": 2,
   "metadata": {},
   "outputs": [],
   "source": [
    "file = open('input.txt', 'r')\n",
    "input = file.readlines()\n",
    "file.close()"
   ]
  },
  {
   "cell_type": "code",
   "execution_count": 3,
   "metadata": {},
   "outputs": [],
   "source": [
    "class WorryOperation(Enum):\n",
    "    ADD = 1\n",
    "    MULT = 2\n",
    "    POW = 3\n"
   ]
  },
  {
   "cell_type": "code",
   "execution_count": 4,
   "metadata": {},
   "outputs": [],
   "source": [
    "class Monkey:\n",
    "\n",
    "    def __init__(self, id):\n",
    "        self.name = \"Monkey \"+str(id)\n",
    "        self.items = []\n",
    "        # worry operation\n",
    "        self.worry_op = WorryOperation.ADD\n",
    "        self.worry_value = 0\n",
    "        # test condition\n",
    "        self.division_by = 1\n",
    "        # throw to\n",
    "        self.true_dest = None\n",
    "        self.false_dest = None\n",
    "        # number inspections\n",
    "        self.inspections = 0\n",
    "\n",
    "    def inspect_items(self, solution_a=True):\n",
    "        for item in self.items:\n",
    "            self.inspect_item(item, solution_a)\n",
    "        self.items = []\n",
    "        \n",
    "    def inspect_item(self, item, solution_a):\n",
    "        item = self.increase_worry_level(item)\n",
    "        # reduce worry\n",
    "        if (solution_a):\n",
    "            item = int(item/3)\n",
    "        else:\n",
    "            item = item % lcm\n",
    "        # test and throw item\n",
    "        self.test_and_throw_item(item)\n",
    "        self.inspections += 1\n",
    "        return 0\n",
    "\n",
    "    def increase_worry_level(self, item):\n",
    "        if self.worry_op == WorryOperation.POW:\n",
    "            item *= item\n",
    "        elif self.worry_op == WorryOperation.MULT:\n",
    "            item *= self.worry_value\n",
    "        else:\n",
    "            item += self.worry_value\n",
    "        return item\n",
    "\n",
    "    def test_and_throw_item(self, item):\n",
    "        if item % self.division_by == 0:\n",
    "            self.true_dest.items.append(item)\n",
    "        else:\n",
    "            self.false_dest.items.append(item)\n",
    "\n",
    "    def print_items(self):\n",
    "        print(self.name + \": \"+ str(self.items))\n",
    "\n",
    "    def print(self):\n",
    "        print(self.name+\":\")\n",
    "        print(\"\\tItems: \"+str(self.items))\n",
    "        print(\"\\tOperation: \"+str(self.worry_op) + \" and Value == \"+str(self.worry_value))\n",
    "        print(\"\\tTest: Division by \"+str(self.division_by))\n",
    "        if self.true_dest != None:\n",
    "            print(\"\\t\\tTrue: \"+str(self.true_dest.name))\n",
    "        if self.false_dest != None:\n",
    "            print(\"\\t\\tFalse: \"+str(self.false_dest.name))\n"
   ]
  },
  {
   "cell_type": "code",
   "execution_count": 5,
   "metadata": {},
   "outputs": [],
   "source": [
    "def print_status():\n",
    "    for m in monkeys:\n",
    "        m.print_items()"
   ]
  },
  {
   "cell_type": "code",
   "execution_count": 6,
   "metadata": {},
   "outputs": [],
   "source": [
    "# initiaize monkey list with raw monkeys\n",
    "def initialize_n_monkeys(n):\n",
    "    monkeys = []\n",
    "    for i in range(n):\n",
    "        monkeys.append(Monkey(i))\n",
    "    return monkeys"
   ]
  },
  {
   "cell_type": "code",
   "execution_count": 7,
   "metadata": {},
   "outputs": [],
   "source": [
    "def set_monkey(monkey_in):\n",
    "    # select corresponding raw monkey\n",
    "    monkey = monkeys[int(monkey_in[0].split()[1][0])]\n",
    "\n",
    "    # set starting items\n",
    "    starting_items = re.split(', | ', monkey_in[1].strip())\n",
    "    for i,it in enumerate(starting_items):\n",
    "        if i<2:\n",
    "            continue\n",
    "        else:\n",
    "            monkey.items.append(int(it))\n",
    "\n",
    "    # set worry operation\n",
    "    if (monkey_in[2].split()[5] == 'old'):\n",
    "        monkey.worry_op = WorryOperation.POW\n",
    "    else:\n",
    "        if (monkey_in[2].split()[4] == '*'):\n",
    "            monkey.worry_op = WorryOperation.MULT\n",
    "        else:\n",
    "            monkey.worry_op = WorryOperation.ADD\n",
    "        monkey.worry_value = int(monkey_in[2].split()[5])\n",
    "\n",
    "    # test parameters\n",
    "    monkey.division_by = int(monkey_in[3].split()[3])\n",
    "    monkey.true_dest = monkeys[int(monkey_in[4].split()[5])]\n",
    "    monkey.false_dest = monkeys[int(monkey_in[5].split()[5])]\n",
    "    return 0"
   ]
  },
  {
   "cell_type": "code",
   "execution_count": 8,
   "metadata": {},
   "outputs": [],
   "source": [
    "def read_in_monkeys():\n",
    "    for i,line in enumerate(input):\n",
    "        if (line.startswith(\"Monkey\")):\n",
    "            set_monkey(input[i:i+6])"
   ]
  },
  {
   "cell_type": "code",
   "execution_count": 9,
   "metadata": {},
   "outputs": [],
   "source": [
    "def throw_items_for_n_rounds(n, solution_a=True):\n",
    "    for i in range(n):\n",
    "        #print(\"Round \"+str(i+1)+\":\")\n",
    "        for monkey in monkeys:\n",
    "            monkey.inspect_items(solution_a)\n",
    "            #print_status()"
   ]
  },
  {
   "cell_type": "code",
   "execution_count": 10,
   "metadata": {},
   "outputs": [],
   "source": [
    "def compute_solution():\n",
    "    inspections = []\n",
    "    for m in monkeys:\n",
    "        inspections.append(m.inspections)\n",
    "    inspections.sort(reverse=True)\n",
    "    return inspections[0] * inspections[1]"
   ]
  },
  {
   "cell_type": "code",
   "execution_count": 11,
   "metadata": {},
   "outputs": [],
   "source": [
    "def print_num_inspections():\n",
    "    inspections = []\n",
    "    for m in monkeys:\n",
    "        inspections.append(m.inspections)\n",
    "    print(inspections)"
   ]
  },
  {
   "cell_type": "code",
   "execution_count": 12,
   "metadata": {},
   "outputs": [],
   "source": [
    "def lcm():\n",
    "    lcm = 1\n",
    "    for monkey in monkeys:\n",
    "        lcm *= monkey.division_by\n",
    "    return lcm"
   ]
  },
  {
   "cell_type": "markdown",
   "metadata": {},
   "source": [
    "### Solution A"
   ]
  },
  {
   "cell_type": "code",
   "execution_count": 13,
   "metadata": {},
   "outputs": [],
   "source": [
    "# read in monkeys\n",
    "monkeys = initialize_n_monkeys(8)\n",
    "read_in_monkeys()"
   ]
  },
  {
   "cell_type": "code",
   "execution_count": 14,
   "metadata": {},
   "outputs": [],
   "source": [
    "# 20 rounds of throwing\n",
    "throw_items_for_n_rounds(20)"
   ]
  },
  {
   "cell_type": "code",
   "execution_count": 15,
   "metadata": {},
   "outputs": [
    {
     "data": {
      "text/plain": [
       "101436"
      ]
     },
     "execution_count": 15,
     "metadata": {},
     "output_type": "execute_result"
    }
   ],
   "source": [
    "# check number inspections\n",
    "compute_solution()"
   ]
  },
  {
   "cell_type": "markdown",
   "metadata": {},
   "source": [
    "### Solution B"
   ]
  },
  {
   "cell_type": "code",
   "execution_count": 16,
   "metadata": {},
   "outputs": [],
   "source": [
    "# init\n",
    "monkeys = initialize_n_monkeys(8)\n",
    "read_in_monkeys()\n",
    "lcm = lcm()"
   ]
  },
  {
   "cell_type": "code",
   "execution_count": 17,
   "metadata": {},
   "outputs": [
    {
     "data": {
      "text/plain": [
       "19754471646"
      ]
     },
     "execution_count": 17,
     "metadata": {},
     "output_type": "execute_result"
    }
   ],
   "source": [
    "throw_items_for_n_rounds(10000, False)\n",
    "compute_solution()"
   ]
  }
 ],
 "metadata": {
  "kernelspec": {
   "display_name": "Python 3.10.8 ('venv')",
   "language": "python",
   "name": "python3"
  },
  "language_info": {
   "codemirror_mode": {
    "name": "ipython",
    "version": 3
   },
   "file_extension": ".py",
   "mimetype": "text/x-python",
   "name": "python",
   "nbconvert_exporter": "python",
   "pygments_lexer": "ipython3",
   "version": "3.10.8"
  },
  "orig_nbformat": 4,
  "vscode": {
   "interpreter": {
    "hash": "1d83de968a5503150db6c5cc46c1246f690e138e7e61ece9303930307d16413f"
   }
  }
 },
 "nbformat": 4,
 "nbformat_minor": 2
}
