{
 "cells": [
  {
   "cell_type": "code",
   "execution_count": 1,
   "metadata": {},
   "outputs": [],
   "source": [
    "import operator"
   ]
  },
  {
   "cell_type": "code",
   "execution_count": 2,
   "metadata": {},
   "outputs": [],
   "source": [
    "file = open('input.txt', 'r')\n",
    "input = file.readlines()\n",
    "file.close()"
   ]
  },
  {
   "cell_type": "code",
   "execution_count": 3,
   "metadata": {},
   "outputs": [],
   "source": [
    "head_coords = [(0,0)]\n",
    "tail_coords = [(0,0)]"
   ]
  },
  {
   "cell_type": "code",
   "execution_count": 4,
   "metadata": {},
   "outputs": [],
   "source": [
    "def move_tail(direction, head):\n",
    "    tail = tail_coords[-1]\n",
    "\n",
    "    # head tail distance\n",
    "    ht_dis = tuple(map(operator.sub, head, tail))\n",
    "\n",
    "    if (abs(ht_dis[0])>1 or abs(ht_dis[1])>1):\n",
    "        if (direction == \"R\"):\n",
    "            tail_coords.append(tuple(map(operator.sub, head, (1,0))))\n",
    "        elif (direction == \"L\"):\n",
    "            tail_coords.append(tuple(map(operator.sub, head, (-1,0))))\n",
    "        elif (direction == \"U\"):\n",
    "            tail_coords.append(tuple(map(operator.sub, head, (0,1))))\n",
    "        elif (direction == \"D\"):\n",
    "            tail_coords.append(tuple(map(operator.sub, head, (0,-1))))"
   ]
  },
  {
   "cell_type": "code",
   "execution_count": 5,
   "metadata": {},
   "outputs": [],
   "source": [
    "def move_head(direction, steps):\n",
    "    for i in range(steps):\n",
    "        # head movement\n",
    "        if (direction == \"R\"):\n",
    "            head_coords.append(tuple(map(sum, zip(head_coords[-1], (1,0)))))\n",
    "        elif (direction == \"L\"):\n",
    "            head_coords.append(tuple(map(sum, zip(head_coords[-1], (-1,0)))))\n",
    "        elif (direction == \"U\"):\n",
    "            head_coords.append(tuple(map(sum, zip(head_coords[-1], (0,1)))))\n",
    "        elif (direction == \"D\"):\n",
    "            head_coords.append(tuple(map(sum, zip(head_coords[-1], (0,-1)))))\n",
    "\n",
    "        # tail movement\n",
    "        move_tail(direction, head_coords[-1])       "
   ]
  },
  {
   "cell_type": "code",
   "execution_count": 6,
   "metadata": {},
   "outputs": [],
   "source": [
    "for i,line in enumerate(input):\n",
    "    split = line.split()\n",
    "    move_head(split[0], int(split[1]))"
   ]
  },
  {
   "cell_type": "code",
   "execution_count": 7,
   "metadata": {},
   "outputs": [
    {
     "data": {
      "text/plain": [
       "6494"
      ]
     },
     "execution_count": 7,
     "metadata": {},
     "output_type": "execute_result"
    }
   ],
   "source": [
    "# solution a\n",
    "len(set(tail_coords))"
   ]
  }
 ],
 "metadata": {
  "kernelspec": {
   "display_name": "Python 3.10.8 64-bit",
   "language": "python",
   "name": "python3"
  },
  "language_info": {
   "codemirror_mode": {
    "name": "ipython",
    "version": 3
   },
   "file_extension": ".py",
   "mimetype": "text/x-python",
   "name": "python",
   "nbconvert_exporter": "python",
   "pygments_lexer": "ipython3",
   "version": "3.10.8"
  },
  "orig_nbformat": 4,
  "vscode": {
   "interpreter": {
    "hash": "aee8b7b246df8f9039afb4144a1f6fd8d2ca17a180786b69acc140d282b71a49"
   }
  }
 },
 "nbformat": 4,
 "nbformat_minor": 2
}
