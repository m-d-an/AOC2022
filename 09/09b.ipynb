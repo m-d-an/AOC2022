{
 "cells": [
  {
   "cell_type": "code",
   "execution_count": 1,
   "metadata": {},
   "outputs": [],
   "source": [
    "import operator"
   ]
  },
  {
   "cell_type": "code",
   "execution_count": 2,
   "metadata": {},
   "outputs": [],
   "source": [
    "file = open('input.txt', 'r')\n",
    "input = file.readlines()\n",
    "file.close()"
   ]
  },
  {
   "cell_type": "code",
   "execution_count": 3,
   "metadata": {},
   "outputs": [],
   "source": [
    "head_coords = [(0,0)]\n",
    "num_knots = 9\n",
    "knot_coords = []\n",
    "for i in range(num_knots):\n",
    "    knot_coords.append([(0,0)])"
   ]
  },
  {
   "cell_type": "code",
   "execution_count": 4,
   "metadata": {},
   "outputs": [],
   "source": [
    "def move_tail(head, knot):\n",
    "    # return, if last knot reached\n",
    "    if (knot==num_knots):\n",
    "        return\n",
    "        \n",
    "    tail_coords = knot_coords[knot]\n",
    "    tail = tail_coords[-1]\n",
    "\n",
    "    # distance between head and tail\n",
    "    ht_dis = tuple(map(operator.sub, head, tail))\n",
    "\n",
    "    # compute tail movement\n",
    "    if (abs(ht_dis[0])==2 and abs(ht_dis[1])==2):\n",
    "        tail_coords.append(tuple(map(sum, zip(tail, (ht_dis[0]/2,ht_dis[1]/2))))) \n",
    "    elif (abs(ht_dis[0])==2):\n",
    "        tail_coords.append(tuple(map(sum, zip(tail, (ht_dis[0]/2,ht_dis[1]))))) \n",
    "    elif (abs(ht_dis[1])==2):\n",
    "        tail_coords.append(tuple(map(sum, zip(tail, (ht_dis[0],ht_dis[1]/2)))))\n",
    "    else:\n",
    "        return\n",
    "    \n",
    "    # next knot\n",
    "    move_tail(tail_coords[-1], knot+1)"
   ]
  },
  {
   "cell_type": "code",
   "execution_count": 5,
   "metadata": {},
   "outputs": [],
   "source": [
    "def move_head(direction, steps):\n",
    "    for i in range(steps):\n",
    "        # head movement\n",
    "        if (direction == \"R\"):\n",
    "            head_coords.append(tuple(map(sum, zip(head_coords[-1], (1,0)))))\n",
    "        elif (direction == \"L\"):\n",
    "            head_coords.append(tuple(map(sum, zip(head_coords[-1], (-1,0)))))\n",
    "        elif (direction == \"U\"):\n",
    "            head_coords.append(tuple(map(sum, zip(head_coords[-1], (0,1)))))\n",
    "        elif (direction == \"D\"):\n",
    "            head_coords.append(tuple(map(sum, zip(head_coords[-1], (0,-1)))))\n",
    "\n",
    "        # tail movement\n",
    "        move_tail(head_coords[-1], 0)       "
   ]
  },
  {
   "cell_type": "code",
   "execution_count": 6,
   "metadata": {},
   "outputs": [],
   "source": [
    "for i,line in enumerate(input):\n",
    "    split = line.split()\n",
    "    move_head(split[0], int(split[1]))"
   ]
  },
  {
   "cell_type": "code",
   "execution_count": 7,
   "metadata": {},
   "outputs": [
    {
     "data": {
      "text/plain": [
       "2691"
      ]
     },
     "execution_count": 7,
     "metadata": {},
     "output_type": "execute_result"
    }
   ],
   "source": [
    "# solution b\n",
    "len(set(knot_coords[8]))"
   ]
  }
 ],
 "metadata": {
  "kernelspec": {
   "display_name": "Python 3.10.8 64-bit",
   "language": "python",
   "name": "python3"
  },
  "language_info": {
   "codemirror_mode": {
    "name": "ipython",
    "version": 3
   },
   "file_extension": ".py",
   "mimetype": "text/x-python",
   "name": "python",
   "nbconvert_exporter": "python",
   "pygments_lexer": "ipython3",
   "version": "3.10.8"
  },
  "orig_nbformat": 4,
  "vscode": {
   "interpreter": {
    "hash": "aee8b7b246df8f9039afb4144a1f6fd8d2ca17a180786b69acc140d282b71a49"
   }
  }
 },
 "nbformat": 4,
 "nbformat_minor": 2
}
