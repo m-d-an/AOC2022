{
 "cells": [
  {
   "cell_type": "code",
   "execution_count": 1,
   "metadata": {},
   "outputs": [],
   "source": [
    "import re\n",
    "import math"
   ]
  },
  {
   "cell_type": "code",
   "execution_count": 2,
   "metadata": {},
   "outputs": [],
   "source": [
    "demo = False\n",
    "if (demo):\n",
    "    file = 'input_ex1.txt'\n",
    "else:\n",
    "    # Puzzle input\n",
    "    file = 'input.txt'"
   ]
  },
  {
   "cell_type": "code",
   "execution_count": 3,
   "metadata": {},
   "outputs": [],
   "source": [
    "file = open(file, 'r')\n",
    "input = file.readlines()\n",
    "file.close()"
   ]
  },
  {
   "cell_type": "code",
   "execution_count": 4,
   "metadata": {},
   "outputs": [],
   "source": [
    "bp = {}\n",
    "for line in input:\n",
    "    split = re.split(' |:', line.strip())\n",
    "    bp[int(split[1])] = [int(split[7]),int(split[13]),int(split[19]),int(split[22]),int(split[28]),int(split[31])]"
   ]
  },
  {
   "cell_type": "code",
   "execution_count": 5,
   "metadata": {},
   "outputs": [],
   "source": [
    "def compute_new_resources(b, type, res, rob, t):\n",
    "    basic = (res[0]+rob[0]*t, res[1]+rob[1]*t, res[2]+rob[2]*t, res[3]+rob[3]*t)\n",
    "    if type == \"ore\":\n",
    "        return (basic[0]-bp[b][0], basic[1], basic[2], basic[3])\n",
    "    elif type == \"clay\":\n",
    "        return (basic[0]-bp[b][1], basic[1], basic[2], basic[3])\n",
    "    elif type == \"obsidian\":\n",
    "        return (basic[0]-bp[b][2], basic[1]-bp[b][3], basic[2], basic[3])\n",
    "    elif type == \"geode\":\n",
    "        return (basic[0]-bp[b][4], basic[1], basic[2]-bp[b][5], basic[3])\n",
    "    else:\n",
    "        return basic"
   ]
  },
  {
   "cell_type": "code",
   "execution_count": 6,
   "metadata": {},
   "outputs": [],
   "source": [
    "def simulate(b, res, rob, t):\n",
    "    # print(\"Time: \"+str(t))\n",
    "    # print(\"\\tRobots: \"+str(rob))\n",
    "    # print(\"\\tResources: \"+str(res))\n",
    "\n",
    "    if t<=0:\n",
    "        n_geodes.append(res[3])\n",
    "        return\n",
    "\n",
    "    # geode robots\n",
    "    if rob[2] > 0:\n",
    "        mr = [bp[b][4] - res[0], bp[b][5] - res[2]]\n",
    "        tn = [1, 1]\n",
    "        if max(mr) > 0:\n",
    "            tn = [1+int(math.ceil(mr[0]/rob[0])),1+int(math.ceil(mr[1]/rob[2]))]\n",
    "        if t>=max(tn):\n",
    "            nr = compute_new_resources(b, \"geode\", res, rob, max(tn))\n",
    "            simulate(b, nr, (rob[0], rob[1], rob[2], rob[3]+1), t-max(tn))\n",
    "\n",
    "    # obsidian robots\n",
    "    if rob[1] > 0:\n",
    "        mr = [bp[b][2] - res[0], bp[b][3] - res[1]]\n",
    "        tn = [1, 1]\n",
    "        if max(mr) > 0:\n",
    "            tn = [1+int(math.ceil(mr[0]/rob[0])),1+int(math.ceil(mr[1]/rob[1]))]\n",
    "        if t>=max(tn):\n",
    "            nr = compute_new_resources(b, \"obsidian\", res, rob, max(tn))\n",
    "            simulate(b, nr, (rob[0], rob[1], rob[2]+1, rob[3]), t-max(tn))\n",
    "\n",
    "    # clay robots\n",
    "    mr = bp[b][1] - res[0]\n",
    "    tn = 1\n",
    "    if mr > 0:\n",
    "        tn += int(math.ceil(mr/rob[0]))\n",
    "    if t>=tn:\n",
    "        nr = compute_new_resources(b, \"clay\", res, rob, tn)\n",
    "        simulate(b, nr, (rob[0], rob[1]+1, rob[2], rob[3]), t-tn)\n",
    "    \n",
    "    # ore robots\n",
    "    # reduce solution space: not more than x ore robots\n",
    "    if rob[0] <= 3:\n",
    "        mr = bp[b][0] - res[0]\n",
    "        tn = 1\n",
    "        if mr > 0:\n",
    "            tn += int(math.ceil(mr/rob[0]))\n",
    "        if t>=tn:\n",
    "            nr = compute_new_resources(b, \"ore\", res, rob, tn)\n",
    "            simulate(b, nr, (rob[0]+1, rob[1], rob[2], rob[3]), t-tn)\n",
    "\n",
    "    nr = compute_new_resources(b, \"None\", res, rob, t)\n",
    "    n_geodes.append(nr[3])\n",
    "    return\n"
   ]
  },
  {
   "cell_type": "code",
   "execution_count": 7,
   "metadata": {},
   "outputs": [
    {
     "name": "stdout",
     "output_type": "stream",
     "text": [
      "Blueprint 1\n",
      "\t0 geodes obtained\n",
      "Blueprint 2\n",
      "\t5 geodes obtained\n",
      "Blueprint 3\n",
      "\t0 geodes obtained\n",
      "Blueprint 4\n",
      "\t0 geodes obtained\n",
      "Blueprint 5\n",
      "\t0 geodes obtained\n",
      "Blueprint 6\n",
      "\t5 geodes obtained\n",
      "Blueprint 7\n",
      "\t0 geodes obtained\n",
      "Blueprint 8\n",
      "\t2 geodes obtained\n",
      "Blueprint 9\n",
      "\t1 geodes obtained\n",
      "Blueprint 10\n",
      "\t0 geodes obtained\n",
      "Blueprint 11\n",
      "\t2 geodes obtained\n",
      "Blueprint 12\n",
      "\t3 geodes obtained\n",
      "Blueprint 13\n",
      "\t3 geodes obtained\n",
      "Blueprint 14\n",
      "\t7 geodes obtained\n",
      "Blueprint 15\n",
      "\t1 geodes obtained\n",
      "Blueprint 16\n",
      "\t9 geodes obtained\n",
      "Blueprint 17\n",
      "\t0 geodes obtained\n",
      "Blueprint 18\n",
      "\t1 geodes obtained\n",
      "Blueprint 19\n",
      "\t0 geodes obtained\n",
      "Blueprint 20\n",
      "\t0 geodes obtained\n",
      "Blueprint 21\n",
      "\t0 geodes obtained\n",
      "Blueprint 22\n",
      "\t9 geodes obtained\n",
      "Blueprint 23\n",
      "\t4 geodes obtained\n",
      "Blueprint 24\n",
      "\t5 geodes obtained\n",
      "Blueprint 25\n",
      "\t8 geodes obtained\n",
      "Blueprint 26\n",
      "\t2 geodes obtained\n",
      "Blueprint 27\n",
      "\t2 geodes obtained\n",
      "Blueprint 28\n",
      "\t1 geodes obtained\n",
      "Blueprint 29\n",
      "\t1 geodes obtained\n",
      "Blueprint 30\n",
      "\t9 geodes obtained\n"
     ]
    }
   ],
   "source": [
    "max_geodes = {}\n",
    "for b in bp.keys():\n",
    "    print(\"Blueprint \"+str(b))\n",
    "    n_geodes = []\n",
    "    resources = (0,0,0,0)\n",
    "    robots = (1,0,0,0)\n",
    "    time_remaining = 24\n",
    "    simulate(b, resources, robots, time_remaining)\n",
    "    print(\"\\t\"+str(max(n_geodes))+\" geodes obtained\")\n",
    "    max_geodes[b] = max(n_geodes)"
   ]
  },
  {
   "cell_type": "code",
   "execution_count": 8,
   "metadata": {},
   "outputs": [
    {
     "data": {
      "text/plain": [
       "1480"
      ]
     },
     "execution_count": 8,
     "metadata": {},
     "output_type": "execute_result"
    }
   ],
   "source": [
    "sum = 0\n",
    "for k,v in max_geodes.items():\n",
    "    sum += k*v\n",
    "sum"
   ]
  }
 ],
 "metadata": {
  "kernelspec": {
   "display_name": "Python 3.10.8 ('venv')",
   "language": "python",
   "name": "python3"
  },
  "language_info": {
   "codemirror_mode": {
    "name": "ipython",
    "version": 3
   },
   "file_extension": ".py",
   "mimetype": "text/x-python",
   "name": "python",
   "nbconvert_exporter": "python",
   "pygments_lexer": "ipython3",
   "version": "3.10.8"
  },
  "orig_nbformat": 4,
  "vscode": {
   "interpreter": {
    "hash": "1d83de968a5503150db6c5cc46c1246f690e138e7e61ece9303930307d16413f"
   }
  }
 },
 "nbformat": 4,
 "nbformat_minor": 2
}
