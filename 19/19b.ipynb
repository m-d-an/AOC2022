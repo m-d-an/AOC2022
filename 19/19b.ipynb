{
 "cells": [
  {
   "cell_type": "code",
   "execution_count": null,
   "metadata": {},
   "outputs": [],
   "source": [
    "import re\n",
    "import math"
   ]
  },
  {
   "cell_type": "code",
   "execution_count": null,
   "metadata": {},
   "outputs": [],
   "source": [
    "demo = False\n",
    "if (demo):\n",
    "    file = 'input_ex1.txt'\n",
    "else:\n",
    "    # Puzzle input\n",
    "    file = 'input.txt'"
   ]
  },
  {
   "cell_type": "code",
   "execution_count": null,
   "metadata": {},
   "outputs": [],
   "source": [
    "file = open(file, 'r')\n",
    "input = file.readlines()\n",
    "file.close()"
   ]
  },
  {
   "cell_type": "code",
   "execution_count": null,
   "metadata": {},
   "outputs": [],
   "source": [
    "bp = {}\n",
    "for line in input:\n",
    "    split = re.split(' |:', line.strip())\n",
    "    bp[int(split[1])] = [int(split[7]),int(split[13]),int(split[19]),int(split[22]),int(split[28]),int(split[31])]"
   ]
  },
  {
   "cell_type": "code",
   "execution_count": null,
   "metadata": {},
   "outputs": [],
   "source": [
    "def compute_new_resources(b, type, res, rob, t):\n",
    "    basic = (res[0]+rob[0]*t, res[1]+rob[1]*t, res[2]+rob[2]*t, res[3]+rob[3]*t)\n",
    "    if type == \"ore\":\n",
    "        return (basic[0]-bp[b][0], basic[1], basic[2], basic[3])\n",
    "    elif type == \"clay\":\n",
    "        return (basic[0]-bp[b][1], basic[1], basic[2], basic[3])\n",
    "    elif type == \"obsidian\":\n",
    "        return (basic[0]-bp[b][2], basic[1]-bp[b][3], basic[2], basic[3])\n",
    "    elif type == \"geode\":\n",
    "        return (basic[0]-bp[b][4], basic[1], basic[2]-bp[b][5], basic[3])\n",
    "    else:\n",
    "        return basic"
   ]
  },
  {
   "cell_type": "code",
   "execution_count": null,
   "metadata": {},
   "outputs": [],
   "source": [
    "def simulate(b, res, rob, t):\n",
    "    # print(\"Time: \"+str(t))\n",
    "    # print(\"\\tRobots: \"+str(rob))\n",
    "    # print(\"\\tResources: \"+str(res))\n",
    "\n",
    "    if t<=0:\n",
    "        n_geodes.append(res[3])\n",
    "        return\n",
    "\n",
    "    # geode robots\n",
    "    if rob[2] > 0:\n",
    "        mr = [bp[b][4] - res[0], bp[b][5] - res[2]]\n",
    "        tn = [1, 1]\n",
    "        if max(mr) > 0:\n",
    "            tn = [1+int(math.ceil(mr[0]/rob[0])),1+int(math.ceil(mr[1]/rob[2]))]\n",
    "        if t>=max(tn):\n",
    "            nr = compute_new_resources(b, \"geode\", res, rob, max(tn))\n",
    "            simulate(b, nr, (rob[0], rob[1], rob[2], rob[3]+1), t-max(tn))\n",
    "\n",
    "    # obsidian robots\n",
    "    if rob[1] > 0:\n",
    "        mr = [bp[b][2] - res[0], bp[b][3] - res[1]]\n",
    "        tn = [1, 1]\n",
    "        if max(mr) > 0:\n",
    "            tn = [1+int(math.ceil(mr[0]/rob[0])),1+int(math.ceil(mr[1]/rob[1]))]\n",
    "        if t>=max(tn):\n",
    "            nr = compute_new_resources(b, \"obsidian\", res, rob, max(tn))\n",
    "            simulate(b, nr, (rob[0], rob[1], rob[2]+1, rob[3]), t-max(tn))\n",
    "\n",
    "    # clay robots\n",
    "    mr = bp[b][1] - res[0]\n",
    "    tn = 1\n",
    "    if mr > 0:\n",
    "        tn += int(math.ceil(mr/rob[0]))\n",
    "    if t>=tn:\n",
    "        nr = compute_new_resources(b, \"clay\", res, rob, tn)\n",
    "        simulate(b, nr, (rob[0], rob[1]+1, rob[2], rob[3]), t-tn)\n",
    "    \n",
    "    # ore robots\n",
    "    # reduce solution space: not more than x ore robots\n",
    "    if rob[0] < 4:\n",
    "        mr = bp[b][0] - res[0]\n",
    "        tn = 1\n",
    "        if mr > 0:\n",
    "            tn += int(math.ceil(mr/rob[0]))\n",
    "        if t>=tn:\n",
    "            nr = compute_new_resources(b, \"ore\", res, rob, tn)\n",
    "            simulate(b, nr, (rob[0]+1, rob[1], rob[2], rob[3]), t-tn)\n",
    "\n",
    "    nr = compute_new_resources(b, \"None\", res, rob, t)\n",
    "    n_geodes.append(nr[3])\n",
    "    return\n"
   ]
  },
  {
   "cell_type": "code",
   "execution_count": null,
   "metadata": {},
   "outputs": [],
   "source": [
    "max_geodes = {}\n",
    "for b in bp.keys():\n",
    "    if b == 4:\n",
    "        break\n",
    "    print(\"Blueprint \"+str(b))\n",
    "    n_geodes = []\n",
    "    resources = (0,0,0,0)\n",
    "    robots = (1,0,0,0)\n",
    "    time_remaining = 32\n",
    "    simulate(b, resources, robots, time_remaining)\n",
    "    print(\"\\t\"+str(max(n_geodes))+\" geodes obtained\")\n",
    "    max_geodes[b] = max(n_geodes)"
   ]
  },
  {
   "cell_type": "code",
   "execution_count": null,
   "metadata": {},
   "outputs": [],
   "source": [
    "prod = 1\n",
    "for k,v in max_geodes.items():\n",
    "    prod *= v\n",
    "prod\n",
    "# 3168, ca. 30 min. runtime"
   ]
  },
  {
   "cell_type": "markdown",
   "metadata": {},
   "source": [
    "### Demo\n",
    "* BP 1: 56 with max 2 ore robots (correct)\n",
    "* BP 2: 49 with max 2 ore robots (wrong)\n",
    "### Puzzle\n",
    "* BP 1: 6 with max 4 ore robots\n",
    "* BP 2: 44 with max 3 ore robots\n",
    "* BP 3: 12 with max 3 ore robots"
   ]
  }
 ],
 "metadata": {
  "kernelspec": {
   "display_name": "Python 3.10.8 ('venv')",
   "language": "python",
   "name": "python3"
  },
  "language_info": {
   "codemirror_mode": {
    "name": "ipython",
    "version": 3
   },
   "file_extension": ".py",
   "mimetype": "text/x-python",
   "name": "python",
   "nbconvert_exporter": "python",
   "pygments_lexer": "ipython3",
   "version": "3.10.8"
  },
  "orig_nbformat": 4,
  "vscode": {
   "interpreter": {
    "hash": "1d83de968a5503150db6c5cc46c1246f690e138e7e61ece9303930307d16413f"
   }
  }
 },
 "nbformat": 4,
 "nbformat_minor": 2
}
