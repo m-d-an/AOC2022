{
 "cells": [
  {
   "cell_type": "code",
   "execution_count": 1,
   "metadata": {},
   "outputs": [],
   "source": [
    "import numpy as np"
   ]
  },
  {
   "cell_type": "code",
   "execution_count": 2,
   "metadata": {},
   "outputs": [],
   "source": [
    "demo = False\n",
    "board_width = 0\n",
    "if (demo):\n",
    "    file = 'input_ex1.txt'\n",
    "    board_width = 16\n",
    "else:\n",
    "    # Puzzle input\n",
    "    file = 'input.txt'\n",
    "    board_width = 150"
   ]
  },
  {
   "cell_type": "code",
   "execution_count": 3,
   "metadata": {},
   "outputs": [],
   "source": [
    "file = open(file, 'r')\n",
    "input = file.readlines()\n",
    "file.close()"
   ]
  },
  {
   "cell_type": "code",
   "execution_count": 4,
   "metadata": {},
   "outputs": [],
   "source": [
    "import sys\n",
    "\n",
    "def print_board(command=None):\n",
    "\n",
    "    original_stdout = sys.stdout # Save a reference to the original standard output\n",
    "\n",
    "    with open('board_progress.txt', 'a') as f:\n",
    "        sys.stdout = f # Change the standard output to the file we created.\n",
    "        \n",
    "        if command != None:\n",
    "            print('Command: '+str(command))\n",
    "        \n",
    "        for i in range(len(board)):\n",
    "            line = \"\"\n",
    "            for j in range(board_width):\n",
    "                if board[i,j] == 0:\n",
    "                    line += \" \"\n",
    "                elif board[i,j] == 1:\n",
    "                    line += \".\"\n",
    "                elif board[i,j] == 2:\n",
    "                    line += \"#\"\n",
    "                elif board[i,j] == 10:\n",
    "                    line += \">\"\n",
    "                elif board[i,j] == 11:\n",
    "                    line += \"v\"\n",
    "                elif board[i,j] == 12:\n",
    "                    line += \"<\"\n",
    "                elif board[i,j] == 13:\n",
    "                    line += \"^\"\n",
    "            print(line)\n",
    "\n",
    "        sys.stdout = original_stdout # Reset the standard output to its original value"
   ]
  },
  {
   "cell_type": "code",
   "execution_count": 5,
   "metadata": {},
   "outputs": [],
   "source": [
    "# build grid\n",
    "board = np.zeros((len(input)-2, board_width))\n",
    "for i,line in enumerate(input[:-2]):\n",
    "    for j,c in enumerate(line):\n",
    "        if c == \".\":\n",
    "            board[i,j] = 1\n",
    "        elif c == \"#\":\n",
    "            board[i,j] = 2\n",
    "#print_board()"
   ]
  },
  {
   "cell_type": "code",
   "execution_count": 6,
   "metadata": {},
   "outputs": [],
   "source": [
    "# set starting point\n",
    "current_ori = 10\n",
    "if demo:\n",
    "    current_pos = (0,8)\n",
    "    board[0,8] = 10\n",
    "else:\n",
    "    current_pos = (0,50)\n",
    "    board[0,50] = 10   "
   ]
  },
  {
   "cell_type": "code",
   "execution_count": 7,
   "metadata": {},
   "outputs": [],
   "source": [
    "# parse path\n",
    "path = [] \n",
    "number = \"\"\n",
    "for c in input[-1].strip():\n",
    "    if c == 'R' or c == 'L':\n",
    "        path.append(int(number))\n",
    "        number = \"\"\n",
    "        path.append(c)\n",
    "    else:\n",
    "        number += c\n",
    "path.append(int(number))"
   ]
  },
  {
   "cell_type": "code",
   "execution_count": 8,
   "metadata": {},
   "outputs": [],
   "source": [
    "def find_new_target_pos(target_pos, ori):\n",
    "    # cases: outside of matrix\n",
    "    if target_pos[0] < 0 or ori == 13:\n",
    "        for i in range(len(board),0,-1):\n",
    "            new_pos = board[i-1,target_pos[1]]\n",
    "            if new_pos in [1,10,11,12,13]:\n",
    "                return (i-1,target_pos[1])\n",
    "            elif new_pos == 2:\n",
    "                return None\n",
    "            else:\n",
    "                continue\n",
    "    elif target_pos[0] >= len(board) or ori == 11:\n",
    "        for i in range(len(board)):\n",
    "            new_pos = board[i,target_pos[1]]\n",
    "            if new_pos in [1,10,11,12,13]:\n",
    "                return (i,target_pos[1])\n",
    "            elif new_pos == 2:\n",
    "                return None\n",
    "            else:\n",
    "                continue\n",
    "    elif target_pos[1] < 0 or ori == 12:\n",
    "        for j in range(board_width,0,-1):\n",
    "            new_pos = board[target_pos[0],j-1]\n",
    "            if new_pos in [1,10,11,12,13]:\n",
    "                return (target_pos[0],j-1)\n",
    "            elif new_pos == 2:\n",
    "                return None\n",
    "            else:\n",
    "                continue\n",
    "    elif target_pos[1] >= board_width or ori == 10:\n",
    "        for j in range(board_width):\n",
    "            new_pos = board[target_pos[0],j]\n",
    "            if new_pos in [1,10,11,12,13]:\n",
    "                return (target_pos[0],j)\n",
    "            elif new_pos == 2:\n",
    "                return None\n",
    "            else:\n",
    "                continue\n",
    "    return None"
   ]
  },
  {
   "cell_type": "code",
   "execution_count": 9,
   "metadata": {},
   "outputs": [],
   "source": [
    "def go_single_step(source_pos, target_pos, ori):\n",
    "    if target_pos[0] < 0 or target_pos[0] >= len(board) or target_pos[1] < 0 or target_pos[1] >= board_width:\n",
    "        return find_new_target_pos(target_pos, ori)\n",
    "    elif board[target_pos] in [1,10,11,12,13]:\n",
    "        return target_pos\n",
    "    elif board[target_pos] == 2:\n",
    "        return None\n",
    "    elif board[target_pos] == 0:\n",
    "        return find_new_target_pos(target_pos, ori)\n",
    "    return None"
   ]
  },
  {
   "cell_type": "code",
   "execution_count": 10,
   "metadata": {},
   "outputs": [],
   "source": [
    "def go_x_steps(x, ori, pos):\n",
    "    new_pos = pos\n",
    "    for i in range(x):\n",
    "        if ori == 10:\n",
    "            pos = go_single_step(pos, (pos[0],pos[1]+1), ori)\n",
    "        elif ori == 11:\n",
    "            pos = go_single_step(pos, (pos[0]+1,pos[1]), ori)\n",
    "        elif ori == 12:\n",
    "            pos = go_single_step(pos, (pos[0],pos[1]-1), ori)\n",
    "        elif ori == 13:\n",
    "            pos = go_single_step(pos, (pos[0]-1,pos[1]), ori)\n",
    "            \n",
    "        if pos == None:\n",
    "            break\n",
    "        else:\n",
    "            new_pos = pos\n",
    "            board[new_pos] = ori\n",
    "    return new_pos"
   ]
  },
  {
   "cell_type": "code",
   "execution_count": 11,
   "metadata": {},
   "outputs": [],
   "source": [
    "def turn(c, ori):\n",
    "    if c == 'R':\n",
    "        ori += 1\n",
    "    elif c == 'L':\n",
    "        ori -= 1\n",
    "    if ori == 14:\n",
    "        ori = 10\n",
    "    if ori == 9:\n",
    "        ori = 13\n",
    "    board[current_pos] = ori \n",
    "    return ori     "
   ]
  },
  {
   "cell_type": "code",
   "execution_count": 12,
   "metadata": {},
   "outputs": [],
   "source": [
    "for c in path:\n",
    "    #print(\"Command: \"+str(c))\n",
    "    if type(c) == int:\n",
    "        current_pos = go_x_steps(c, current_ori, current_pos)\n",
    "    else:\n",
    "        current_ori = turn(c, current_ori)\n",
    "    #print_board(c)"
   ]
  },
  {
   "cell_type": "code",
   "execution_count": 13,
   "metadata": {},
   "outputs": [],
   "source": [
    "def compute_result(current_pos, current_ori):\n",
    "    result = 1000 * (current_pos[0] + 1)\n",
    "    result += 4 * (current_pos[1] + 1)\n",
    "    result += current_ori - 10\n",
    "    return result"
   ]
  },
  {
   "cell_type": "code",
   "execution_count": 14,
   "metadata": {},
   "outputs": [
    {
     "data": {
      "text/plain": [
       "77318"
      ]
     },
     "execution_count": 14,
     "metadata": {},
     "output_type": "execute_result"
    }
   ],
   "source": [
    "compute_result(current_pos, current_ori)"
   ]
  }
 ],
 "metadata": {
  "kernelspec": {
   "display_name": "Python 3.10.8 ('venv')",
   "language": "python",
   "name": "python3"
  },
  "language_info": {
   "codemirror_mode": {
    "name": "ipython",
    "version": 3
   },
   "file_extension": ".py",
   "mimetype": "text/x-python",
   "name": "python",
   "nbconvert_exporter": "python",
   "pygments_lexer": "ipython3",
   "version": "3.10.8"
  },
  "orig_nbformat": 4,
  "vscode": {
   "interpreter": {
    "hash": "1d83de968a5503150db6c5cc46c1246f690e138e7e61ece9303930307d16413f"
   }
  }
 },
 "nbformat": 4,
 "nbformat_minor": 2
}
