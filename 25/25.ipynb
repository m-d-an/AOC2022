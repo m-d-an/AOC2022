{
 "cells": [
  {
   "cell_type": "code",
   "execution_count": 1,
   "metadata": {},
   "outputs": [],
   "source": [
    "demo = False\n",
    "if (demo):\n",
    "    file = 'input_ex1.txt'\n",
    "else:\n",
    "    # Puzzle input\n",
    "    file = 'input.txt'"
   ]
  },
  {
   "cell_type": "code",
   "execution_count": 2,
   "metadata": {},
   "outputs": [],
   "source": [
    "file = open(file, 'r')\n",
    "input = file.readlines()\n",
    "file.close()"
   ]
  },
  {
   "cell_type": "code",
   "execution_count": 3,
   "metadata": {},
   "outputs": [],
   "source": [
    "fuel_values = []\n",
    "for line in input:\n",
    "    fuel_values.append(line.strip())"
   ]
  },
  {
   "cell_type": "code",
   "execution_count": 4,
   "metadata": {},
   "outputs": [
    {
     "name": "stdout",
     "output_type": "stream",
     "text": [
      "sum: 7, overflow: 1, rest: 2, snafu: 2\n",
      "sum: 8, overflow: 2, rest: -2, snafu: =2\n",
      "sum: 15, overflow: 3, rest: 0, snafu: 0=2\n",
      "sum: 13, overflow: 3, rest: -2, snafu: =0=2\n",
      "sum: 26, overflow: 5, rest: 1, snafu: 1=0=2\n",
      "sum: -12, overflow: -2, rest: -2, snafu: =1=0=2\n",
      "sum: 4, overflow: 1, rest: -1, snafu: -=1=0=2\n",
      "sum: -10, overflow: -2, rest: 0, snafu: 0-=1=0=2\n",
      "sum: -1, overflow: 0, rest: -1, snafu: -0-=1=0=2\n",
      "sum: 6, overflow: 1, rest: 1, snafu: 1-0-=1=0=2\n",
      "sum: -16, overflow: -3, rest: -1, snafu: -1-0-=1=0=2\n",
      "sum: 0, overflow: 0, rest: 0, snafu: 0-1-0-=1=0=2\n",
      "sum: 5, overflow: 1, rest: 0, snafu: 00-1-0-=1=0=2\n",
      "sum: 15, overflow: 3, rest: 0, snafu: 000-1-0-=1=0=2\n",
      "sum: 5, overflow: 1, rest: 0, snafu: 0000-1-0-=1=0=2\n",
      "sum: 8, overflow: 2, rest: -2, snafu: =0000-1-0-=1=0=2\n",
      "sum: -1, overflow: 0, rest: -1, snafu: -=0000-1-0-=1=0=2\n",
      "sum: 4, overflow: 1, rest: -1, snafu: --=0000-1-0-=1=0=2\n",
      "sum: 3, overflow: 1, rest: -2, snafu: =--=0000-1-0-=1=0=2\n",
      "sum: 2, overflow: 0, rest: 2, snafu: 2=--=0000-1-0-=1=0=2\n"
     ]
    }
   ],
   "source": [
    "overflow = 0\n",
    "sum_snafu = \"\"\n",
    "i = 0\n",
    "while i < len(max(fuel_values, key=len)) or overflow != 0:\n",
    "    sum = overflow\n",
    "    for v in fuel_values:\n",
    "        if len(v) > i:\n",
    "            c = v[-(i+1)]\n",
    "            if c == '=':\n",
    "                sum += -2\n",
    "            elif c == '-':\n",
    "                sum += -1\n",
    "            else:\n",
    "                sum += int(c)\n",
    "    overflow = int(round(sum/5))\n",
    "    rest = sum-overflow*5\n",
    "    if rest == -2:\n",
    "        sum_snafu = \"=\"+sum_snafu\n",
    "    elif rest == -1:\n",
    "        sum_snafu = \"-\"+sum_snafu\n",
    "    else:\n",
    "        sum_snafu = str(rest)+sum_snafu\n",
    "    print(\"sum: \"+str(sum)+\", overflow: \"+str(overflow)+\", rest: \"+str(rest)+\", snafu: \"+sum_snafu)\n",
    "    i += 1"
   ]
  }
 ],
 "metadata": {
  "kernelspec": {
   "display_name": "Python 3.10.8 64-bit",
   "language": "python",
   "name": "python3"
  },
  "language_info": {
   "codemirror_mode": {
    "name": "ipython",
    "version": 3
   },
   "file_extension": ".py",
   "mimetype": "text/x-python",
   "name": "python",
   "nbconvert_exporter": "python",
   "pygments_lexer": "ipython3",
   "version": "3.10.8"
  },
  "orig_nbformat": 4,
  "vscode": {
   "interpreter": {
    "hash": "aee8b7b246df8f9039afb4144a1f6fd8d2ca17a180786b69acc140d282b71a49"
   }
  }
 },
 "nbformat": 4,
 "nbformat_minor": 2
}
