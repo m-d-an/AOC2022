{
 "cells": [
  {
   "cell_type": "code",
   "execution_count": 1,
   "metadata": {},
   "outputs": [],
   "source": [
    "from operator import itemgetter"
   ]
  },
  {
   "cell_type": "code",
   "execution_count": 2,
   "metadata": {},
   "outputs": [],
   "source": [
    "demo = False\n",
    "if (demo):\n",
    "    file = 'input_ex1.txt'\n",
    "else:\n",
    "    # Puzzle input\n",
    "    file = 'input.txt'"
   ]
  },
  {
   "cell_type": "code",
   "execution_count": 3,
   "metadata": {},
   "outputs": [],
   "source": [
    "file = open(file, 'r')\n",
    "input = file.readlines()\n",
    "file.close()"
   ]
  },
  {
   "cell_type": "code",
   "execution_count": 4,
   "metadata": {},
   "outputs": [],
   "source": [
    "cubes = []"
   ]
  },
  {
   "cell_type": "code",
   "execution_count": 5,
   "metadata": {},
   "outputs": [],
   "source": [
    "for line in input:\n",
    "    split = line.strip().split(',')\n",
    "    cubes.append((int(split[0]),int(split[1]),int(split[2])))\n",
    "#print(cubes)\n"
   ]
  },
  {
   "cell_type": "code",
   "execution_count": 6,
   "metadata": {},
   "outputs": [],
   "source": [
    "def free_sides(cube, cubes):\n",
    "    sides_free = 6\n",
    "    if (cube[0]+1, cube[1], cube[2]) in cubes:\n",
    "        sides_free -= 1\n",
    "    if (cube[0]-1, cube[1], cube[2]) in cubes:\n",
    "        sides_free -= 1\n",
    "    if (cube[0], cube[1]+1, cube[2]) in cubes:\n",
    "        sides_free -= 1\n",
    "    if (cube[0], cube[1]-1, cube[2]) in cubes:\n",
    "        sides_free -= 1\n",
    "    if (cube[0], cube[1], cube[2]+1) in cubes:\n",
    "        sides_free -= 1\n",
    "    if (cube[0], cube[1], cube[2]-1) in cubes:\n",
    "        sides_free -= 1\n",
    "    return sides_free"
   ]
  },
  {
   "cell_type": "code",
   "execution_count": 7,
   "metadata": {},
   "outputs": [
    {
     "name": "stdout",
     "output_type": "stream",
     "text": [
      "3586\n"
     ]
    }
   ],
   "source": [
    "# solution a\n",
    "nsides = 0\n",
    "for cube in cubes:\n",
    "    #print(str(free_sides(cube, cubes)))\n",
    "    nsides += free_sides(cube, cubes)\n",
    "print(nsides)"
   ]
  },
  {
   "cell_type": "code",
   "execution_count": 8,
   "metadata": {},
   "outputs": [],
   "source": [
    "max_x = max(cubes,key=itemgetter(0))[0]+1\n",
    "max_y = max(cubes,key=itemgetter(1))[1]+1\n",
    "max_z = max(cubes,key=itemgetter(2))[2]+1\n",
    "min_x = min(cubes,key=itemgetter(0))[0]\n",
    "min_y = min(cubes,key=itemgetter(1))[1]\n",
    "min_z = min(cubes,key=itemgetter(2))[2]"
   ]
  },
  {
   "cell_type": "code",
   "execution_count": 9,
   "metadata": {},
   "outputs": [],
   "source": [
    "# list of free space\n",
    "free_spaces = []\n",
    "for x in range(max_x):\n",
    "    for y in range(max_y):\n",
    "        for z in range(max_z):\n",
    "            if (x,y,z) in cubes:\n",
    "                continue\n",
    "            else:\n",
    "                free_spaces.append((x,y,z))"
   ]
  },
  {
   "cell_type": "code",
   "execution_count": 10,
   "metadata": {},
   "outputs": [],
   "source": [
    "def remove_connected_spaces(space):\n",
    "    if space not in free_spaces:\n",
    "        return False\n",
    "    else:\n",
    "        free_spaces.remove(space)\n",
    "\n",
    "    if (space[0]+1, space[1], space[2]) not in cubes:\n",
    "        remove_connected_spaces((space[0]+1, space[1], space[2]))\n",
    "    if (space[0]-1, space[1], space[2]) not in cubes:\n",
    "        remove_connected_spaces((space[0]-1, space[1], space[2]))\n",
    "    if (space[0], space[1]+1, space[2]) not in cubes:\n",
    "        remove_connected_spaces((space[0], space[1]+1, space[2]))\n",
    "    if (space[0], space[1]-1, space[2]) not in cubes:\n",
    "        remove_connected_spaces((space[0], space[1]-1, space[2]))\n",
    "    if (space[0], space[1], space[2]+1) not in cubes:\n",
    "        remove_connected_spaces((space[0], space[1], space[2]+1))\n",
    "    if (space[0], space[1], space[2]-1) not in cubes:\n",
    "        remove_connected_spaces((space[0], space[1], space[2]-1))\n",
    "    return True"
   ]
  },
  {
   "cell_type": "code",
   "execution_count": 11,
   "metadata": {},
   "outputs": [
    {
     "name": "stdout",
     "output_type": "stream",
     "text": [
      "3000\n"
     ]
    }
   ],
   "source": [
    "import sys\n",
    "print(sys.getrecursionlimit())"
   ]
  },
  {
   "cell_type": "code",
   "execution_count": 12,
   "metadata": {},
   "outputs": [],
   "source": [
    "sys.setrecursionlimit(5000)"
   ]
  },
  {
   "cell_type": "code",
   "execution_count": 13,
   "metadata": {},
   "outputs": [],
   "source": [
    "# remove space with connection to edges\n",
    "x = 0\n",
    "for y in range(max_y):\n",
    "    for z in range(max_z):\n",
    "        if (x,y,z) in free_spaces:\n",
    "            remove_connected_spaces((x,y,z))\n",
    "y = 0\n",
    "for x in range(max_x):\n",
    "    for z in range(max_z):\n",
    "        if (x,y,z) in free_spaces:\n",
    "            remove_connected_spaces((x,y,z))\n",
    "z = 0\n",
    "for x in range(max_x):\n",
    "    for y in range(max_y):\n",
    "        if (x,y,z) in free_spaces:\n",
    "            remove_connected_spaces((x,y,z))\n",
    "x = max_x\n",
    "for y in range(max_y):\n",
    "    for z in range(max_z):\n",
    "        if (x,y,z) in free_spaces:\n",
    "            remove_connected_spaces((x,y,z))\n",
    "y = max_y\n",
    "for x in range(max_x):\n",
    "    for z in range(max_z):\n",
    "        if (x,y,z) in free_spaces:\n",
    "            remove_connected_spaces((x,y,z))\n",
    "z = max_z\n",
    "for x in range(max_x):\n",
    "    for y in range(max_y):\n",
    "        if (x,y,z) in free_spaces:\n",
    "            remove_connected_spaces((x,y,z))"
   ]
  },
  {
   "cell_type": "code",
   "execution_count": 14,
   "metadata": {},
   "outputs": [
    {
     "name": "stdout",
     "output_type": "stream",
     "text": [
      "1514\n"
     ]
    }
   ],
   "source": [
    "enclosed_sides = 0\n",
    "for space in free_spaces:\n",
    "    #print(str(free_sides(space, free_spaces)))\n",
    "    enclosed_sides += free_sides(space, free_spaces)\n",
    "print(enclosed_sides)"
   ]
  },
  {
   "cell_type": "code",
   "execution_count": 15,
   "metadata": {},
   "outputs": [
    {
     "data": {
      "text/plain": [
       "2072"
      ]
     },
     "execution_count": 15,
     "metadata": {},
     "output_type": "execute_result"
    }
   ],
   "source": [
    "# solution b\n",
    "nsides - enclosed_sides"
   ]
  }
 ],
 "metadata": {
  "kernelspec": {
   "display_name": "Python 3.10.8 64-bit",
   "language": "python",
   "name": "python3"
  },
  "language_info": {
   "codemirror_mode": {
    "name": "ipython",
    "version": 3
   },
   "file_extension": ".py",
   "mimetype": "text/x-python",
   "name": "python",
   "nbconvert_exporter": "python",
   "pygments_lexer": "ipython3",
   "version": "3.10.8"
  },
  "orig_nbformat": 4,
  "vscode": {
   "interpreter": {
    "hash": "aee8b7b246df8f9039afb4144a1f6fd8d2ca17a180786b69acc140d282b71a49"
   }
  }
 },
 "nbformat": 4,
 "nbformat_minor": 2
}
