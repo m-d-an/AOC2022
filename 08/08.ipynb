{
 "cells": [
  {
   "cell_type": "code",
   "execution_count": 1,
   "metadata": {},
   "outputs": [],
   "source": [
    "import numpy as np"
   ]
  },
  {
   "cell_type": "code",
   "execution_count": 2,
   "metadata": {},
   "outputs": [],
   "source": [
    "file = open('input.txt', 'r')\n",
    "input = file.readlines()\n",
    "file.close()"
   ]
  },
  {
   "cell_type": "code",
   "execution_count": 3,
   "metadata": {},
   "outputs": [],
   "source": [
    "edge_len = len(input[0].strip())\n",
    "tree_heights = np.zeros((edge_len, edge_len))\n",
    "tree_visibility = np.zeros((edge_len, edge_len))\n",
    "scenic_scores = np.zeros((edge_len, edge_len))"
   ]
  },
  {
   "cell_type": "code",
   "execution_count": 4,
   "metadata": {},
   "outputs": [],
   "source": [
    "for i, line in enumerate(input):\n",
    "    for j, c in enumerate(line.strip()):\n",
    "        tree_heights[i,j] = int(c)"
   ]
  },
  {
   "cell_type": "code",
   "execution_count": 5,
   "metadata": {},
   "outputs": [],
   "source": [
    "def check_tree_visibility(heights, i,j):\n",
    "    if (heights[i,j] <= min(np.max(heights[:i,j]), np.max(heights[i+1:,j]), np.max(heights[i,:j]), np.max(heights[i,j+1:]))):\n",
    "        return 0\n",
    "    else:\n",
    "        return 1"
   ]
  },
  {
   "cell_type": "code",
   "execution_count": 6,
   "metadata": {},
   "outputs": [],
   "source": [
    "def build_visibility_matrix():\n",
    "    for i in range(edge_len):\n",
    "        for j in range(edge_len):\n",
    "            if (i==0 or j==0 or i==edge_len-1 or j==edge_len-1):\n",
    "                tree_visibility[i,j] = 1\n",
    "            else:\n",
    "                tree_visibility[i,j] = check_tree_visibility(tree_heights, i, j)"
   ]
  },
  {
   "cell_type": "code",
   "execution_count": 7,
   "metadata": {},
   "outputs": [
    {
     "data": {
      "text/plain": [
       "1543"
      ]
     },
     "execution_count": 7,
     "metadata": {},
     "output_type": "execute_result"
    }
   ],
   "source": [
    "# solution a\n",
    "build_visibility_matrix()\n",
    "int(np.sum(tree_visibility))"
   ]
  },
  {
   "cell_type": "code",
   "execution_count": 8,
   "metadata": {},
   "outputs": [],
   "source": [
    "def compute_scenic_score(heights, i, j):\n",
    "    if (i==0 or j==0 or i==edge_len-1 or j==edge_len-1):\n",
    "        return 0\n",
    "        \n",
    "    scenic_score = 1\n",
    "\n",
    "    down = heights[i+1:,j]>=heights[i,j]\n",
    "    if(sum(down) == 0):\n",
    "        scenic_score *= (edge_len - i - 1)\n",
    "    else:\n",
    "        scenic_score *= (np.argmax(down) + 1)\n",
    "    \n",
    "    right = heights[i,j+1:]>=heights[i,j]\n",
    "    if(sum(right) == 0):\n",
    "        scenic_score *= (edge_len - j - 1)\n",
    "    else:\n",
    "        scenic_score *= (np.argmax(right) + 1)\n",
    "\n",
    "    up = heights[:i,j][::-1]>=heights[i,j]\n",
    "    if(sum(up) == 0):\n",
    "        scenic_score *= i\n",
    "    else:\n",
    "        scenic_score *= (np.argmax(up) + 1)\n",
    "\n",
    "    left = heights[i,:j][::-1]>=heights[i,j]\n",
    "    if(sum(left) == 0):\n",
    "        scenic_score *= j\n",
    "    else:\n",
    "        scenic_score *= (np.argmax(left) + 1)\n",
    "\n",
    "    return scenic_score"
   ]
  },
  {
   "cell_type": "code",
   "execution_count": 9,
   "metadata": {},
   "outputs": [],
   "source": [
    "def build_sc_score_matrix():\n",
    "    for i in range(edge_len):\n",
    "        for j in range(edge_len):\n",
    "            scenic_scores[i,j] = compute_scenic_score(tree_heights, i, j)"
   ]
  },
  {
   "cell_type": "code",
   "execution_count": 10,
   "metadata": {},
   "outputs": [
    {
     "data": {
      "text/plain": [
       "595080"
      ]
     },
     "execution_count": 10,
     "metadata": {},
     "output_type": "execute_result"
    }
   ],
   "source": [
    "# solution b\n",
    "build_sc_score_matrix()\n",
    "int(np.max(scenic_scores))"
   ]
  }
 ],
 "metadata": {
  "kernelspec": {
   "display_name": "Python 3.10.8 ('venv')",
   "language": "python",
   "name": "python3"
  },
  "language_info": {
   "codemirror_mode": {
    "name": "ipython",
    "version": 3
   },
   "file_extension": ".py",
   "mimetype": "text/x-python",
   "name": "python",
   "nbconvert_exporter": "python",
   "pygments_lexer": "ipython3",
   "version": "3.10.8"
  },
  "orig_nbformat": 4,
  "vscode": {
   "interpreter": {
    "hash": "1d83de968a5503150db6c5cc46c1246f690e138e7e61ece9303930307d16413f"
   }
  }
 },
 "nbformat": 4,
 "nbformat_minor": 2
}
